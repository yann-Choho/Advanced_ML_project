{
 "cells": [
  {
   "cell_type": "markdown",
   "metadata": {},
   "source": [
    "In this Jupyter Notebook we will code from scratch a CNN"
   ]
  },
  {
   "cell_type": "code",
   "execution_count": 16,
   "metadata": {},
   "outputs": [],
   "source": [
    "### Imports ###\n",
    "\n",
    "import numpy as np\n",
    "from scipy import signal\n",
    "\n",
    "np.random.seed(0)  # For reproductibility"
   ]
  },
  {
   "cell_type": "markdown",
   "metadata": {},
   "source": [
    "I - Mother class"
   ]
  },
  {
   "cell_type": "code",
   "execution_count": 17,
   "metadata": {},
   "outputs": [],
   "source": [
    "class layer :\n",
    "\n",
    "    def __init__(self) :\n",
    "\n",
    "        self.input = None\n",
    "        self.output = None\n",
    "\n",
    "    def forward(self, input) :\n",
    "        pass\n",
    "\n",
    "    def backward(self, grad, eta) :    # eta : learning rate\n",
    "        pass"
   ]
  },
  {
   "cell_type": "markdown",
   "metadata": {},
   "source": [
    "II - Dense layer"
   ]
  },
  {
   "cell_type": "code",
   "execution_count": 18,
   "metadata": {},
   "outputs": [],
   "source": [
    "class dense_layer(layer) :\n",
    "\n",
    "    def __init__(self, nb_inputs, nb_neurones) :\n",
    "\n",
    "        self.weights  = np.random.standard_normal((nb_neurones, nb_inputs))\n",
    "        self.biases = np.random.standard_normal((nb_neurones,1))\n",
    "\n",
    "    def forward(self, input) :\n",
    "\n",
    "        self.input = input\n",
    "\n",
    "        return np.dot(self.weights, self.input) + self.biases\n",
    "\n",
    "    def backward(self, grad, eta) :\n",
    "\n",
    "        weights_grad = np.dot(grad, self.input.T)\n",
    "\n",
    "        self.weights -= eta*weights_grad      # weights update\n",
    "        self.biases -= eta*grad             # biases update\n",
    "\n",
    "    \n",
    "        return np.dot(self.weights.T, grad)"
   ]
  },
  {
   "cell_type": "markdown",
   "metadata": {},
   "source": [
    "III - Convolutionnal layer"
   ]
  },
  {
   "cell_type": "code",
   "execution_count": 19,
   "metadata": {},
   "outputs": [],
   "source": [
    "class convolutionnal_layer(layer) :\n",
    "\n",
    "    def __init__(self, input_shape, kernel_size, depth) :\n",
    "\n",
    "\n",
    "        # We first deal with the dimension of our images, kernes and features\n",
    "\n",
    "        input_depth, input_height, input_width =  input_shape\n",
    "\n",
    "        self.depth = depth\n",
    "        self.input_shape = input_shape\n",
    "        self.input_depth = input_depth\n",
    "        self.output_shape = (depth, input_height - kernel_size + 1, input_width - kernel_size + 1)\n",
    "        self.kernels_shape = (depth, input_depth, kernel_size, kernel_size)\n",
    "\n",
    "        # We iniatlize the kernels and the biases\n",
    "\n",
    "        self.kernels = np.random.randn(*self.kernels_shape)\n",
    "        self.biases = np.random.randn(*self.output_shape)\n",
    "\n",
    "    def forward(self, input) :\n",
    "\n",
    "        self.input = input\n",
    "        self.output = np.copy(self.biases)\n",
    "\n",
    "        for i in range(self.depth) :\n",
    "            for j in range(self.input_depth) :\n",
    "\n",
    "                self.output[i] += signal.correlate2d(self.input[j], self.kernels[i,j], 'valid')\n",
    "\n",
    "        return self.output\n",
    "\n",
    "    def backward(self, grad, eta) :\n",
    "\n",
    "        kernels_grad = np.zeros(self.kernels_shape)\n",
    "        input_grad = np.zeros(self.input_shape)\n",
    "\n",
    "        for i in range(self.depth) :\n",
    "            for j in range(self.input_depth) :\n",
    "\n",
    "                kernels_grad[i,j] = signal.correlate2d(self.input[j], grad[i], 'valid')\n",
    "                input_grad[j] +=  signal.convolve2d(grad[i], self.kernels[i,j], 'full')\n",
    "\n",
    "        self.kernels -= eta * kernels_grad\n",
    "        self.biases -= eta * grad\n",
    "\n",
    "        return input_grad\n"
   ]
  },
  {
   "cell_type": "markdown",
   "metadata": {},
   "source": [
    "III - Activation layer"
   ]
  },
  {
   "cell_type": "code",
   "execution_count": 20,
   "metadata": {},
   "outputs": [],
   "source": [
    "class sigmoid_activation_layer(layer) :\n",
    "\n",
    "    def __init__(self) :\n",
    "\n",
    "        self.activ_func = lambda x : 1/(1 + np.exp(-x))\n",
    "        self.derivative = lambda x : 1/(1 + np.exp(-x))*(1 - 1/(1 + np.exp(-x)))\n",
    "\n",
    "    def forward(self, input) :\n",
    "\n",
    "        self.input = input\n",
    "\n",
    "        return self.activ_func(self.input)\n",
    "\n",
    "    def backward(self, grad, eta) :\n",
    "\n",
    "        return np.multiply(grad, self.derivative(self.input))"
   ]
  },
  {
   "cell_type": "markdown",
   "metadata": {},
   "source": [
    "IV - Reshape layer"
   ]
  },
  {
   "cell_type": "code",
   "execution_count": 21,
   "metadata": {},
   "outputs": [],
   "source": [
    "class reshape_layer(layer) :\n",
    "\n",
    "    def __init__(self, input_shape, output_shape) :\n",
    "\n",
    "        self.input_shape = input_shape\n",
    "        self.output_shape = output_shape\n",
    "\n",
    "    def forward(self, input) :\n",
    "\n",
    "        return np.reshape(input, self.output_shape)\n",
    "\n",
    "    def backward(self, grad, eta) :\n",
    "\n",
    "        return np.reshape(grad, self.input_shape)"
   ]
  },
  {
   "cell_type": "markdown",
   "metadata": {},
   "source": [
    "V - Pooling layer"
   ]
  },
  {
   "cell_type": "code",
   "execution_count": 22,
   "metadata": {},
   "outputs": [],
   "source": [
    "class avg_pool_layer(layer) :\n",
    "\n",
    "    def __init__(self, input_shape, kernel_size) :\n",
    "\n",
    "\n",
    "        # We first deal with the dimension of our images, kernes and features\n",
    "\n",
    "        input_depth, input_height, input_width =  input_shape\n",
    "\n",
    "        self.input_shape = input_shape\n",
    "        self.input_depth = input_depth\n",
    "        self.output_shape = (input_depth, input_height - kernel_size + 1, input_width - kernel_size + 1)\n",
    "\n",
    "        # We iniatlize the kernel \n",
    "\n",
    "        self.kernels = kernel_size**(-1)*np.ones((input_depth,kernel_size,kernel_size))\n",
    "\n",
    "    def forward(self, input) :\n",
    "\n",
    "        self.input = input\n",
    "        self.output = np.zeros(self.output_shape)\n",
    "\n",
    "        for i in range(self.input_depth) :\n",
    "\n",
    "            self.output[i] += signal.correlate2d(self.input[i], self.kernels[i], 'valid')\n",
    "\n",
    "        return self.output\n",
    "\n",
    "    def backward(self, grad, eta) :\n",
    "\n",
    "        input_grad = np.zeros(self.input_shape)\n",
    "\n",
    "        for i in range(self.input_depth) :\n",
    "\n",
    "            input_grad[i] +=  signal.convolve2d(grad[i], self.kernels[i], 'full')\n",
    "\n",
    "        return input_grad"
   ]
  },
  {
   "cell_type": "markdown",
   "metadata": {},
   "source": [
    "VI- Loss layer"
   ]
  },
  {
   "cell_type": "code",
   "execution_count": 23,
   "metadata": {},
   "outputs": [],
   "source": [
    "class cross_entropy : \n",
    "\n",
    "    def __init__(self, y_pred, y_true) : \n",
    "\n",
    "        self.y_pred = np.clip(y_pred, 10e-7, 1 - 10e-7)\n",
    "        self.y_true = y_true\n",
    "\n",
    "    def compute(self) :\n",
    "\n",
    "        error = -np.dot(np.log(self.y_pred).T,self.y_true)\n",
    "        \n",
    "        return float(np.average(error))\n",
    "    \n",
    "    def grad(self) : \n",
    "\n",
    "        grad = np.sum(np.divide(self.y_true,self.y_pred))\n",
    "\n",
    "\n",
    "        return -grad.size**(-1)*grad"
   ]
  }
 ],
 "metadata": {
  "kernelspec": {
   "display_name": "base",
   "language": "python",
   "name": "python3"
  },
  "language_info": {
   "codemirror_mode": {
    "name": "ipython",
    "version": 3
   },
   "file_extension": ".py",
   "mimetype": "text/x-python",
   "name": "python",
   "nbconvert_exporter": "python",
   "pygments_lexer": "ipython3",
   "version": "3.8.3"
  }
 },
 "nbformat": 4,
 "nbformat_minor": 2
}
