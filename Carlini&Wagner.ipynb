{
 "cells": [
  {
   "cell_type": "code",
   "execution_count": null,
   "id": "941c1d7e",
   "metadata": {},
   "outputs": [],
   "source": [
    "import tensorflow as tf"
   ]
  },
  {
   "cell_type": "code",
   "execution_count": null,
   "id": "e3e7e5aa",
   "metadata": {},
   "outputs": [],
   "source": [
    "%run training.ipynb"
   ]
  },
  {
   "cell_type": "code",
   "execution_count": null,
   "id": "87b4b17e",
   "metadata": {},
   "outputs": [],
   "source": [
    "# Implementation of the Carlini & Wagner Attack on the model trained in training.ipynb\n",
    "\n",
    "def cw_attack(model, img, label, eps, lr, max_iter):\n",
    "    \n",
    "    # Initialization\n",
    "    w = tf.Variable(tf.zeros_like(img), trainable=True)\n",
    "    optimizer = tf.optimizers.Adam(learning_rate=lr)\n",
    "    \n",
    "    new_img = 0.5 * (tf.tanh(w) + 1)\n",
    "    output = model(new_img)\n",
    "    real = tf.reduce_max(tf.multiply(output, label))\n",
    "    other = tf.reduce_max(tf.multiply(output, (1 - label)))\n",
    "    loss1 = tf.maximum(0.0, other - real)\n",
    "    loss2 = tf.norm(tf.reshape(new_img - img, [-1]))\n",
    "    loss = eps * loss1 + loss2\n",
    "\n",
    "    # Optimization\n",
    "    for _ in range(max_iter):\n",
    "        with tf.GradientTape() as t:\n",
    "        gradient = t.gradient(loss, [w])\n",
    "        optimizer.apply_gradients(zip(gradient, [w]))\n",
    "\n",
    "    adv_img = 0.5 * (tf.tanh(w) + 1)\n",
    "    return adv_img"
   ]
  },
  {
   "cell_type": "code",
   "execution_count": null,
   "id": "08c58153",
   "metadata": {},
   "outputs": [],
   "source": [
    "#we separate labels and images from our test set\n",
    "test_images = [] \n",
    "test_labels = [] \n",
    "for i in range(len(test_set)):\n",
    "    test_images.append(test_set[i][0])\n",
    "    test_labels.append(int(test_set[i][1][-2:]))\n",
    "    \n",
    "test_images = np.array(test_images)\n",
    "test_labels = np.array(test_labels)"
   ]
  },
  {
   "cell_type": "code",
   "execution_count": null,
   "id": "2a4417d0",
   "metadata": {},
   "outputs": [],
   "source": [
    "# test on one image\n",
    "eps = 0.01\n",
    "lr = 0.01\n",
    "max_iter = 1000\n",
    "img_adversarial = np.array(cw_attack(model, test_images[4:5], tf.one_hot(test_labels[4], 16), eps, lr, max_iter))\n",
    "img_adversarial = img_adversarial[0, :,:,:]\n",
    "\n",
    "tf.keras.utils.array_to_img(test_images[4])\n",
    "tf.keras.utils.array_to_img(img_adversarial)"
   ]
  },
  {
   "cell_type": "code",
   "execution_count": null,
   "id": "b387202a",
   "metadata": {},
   "outputs": [],
   "source": [
    "# test on the whole test_set (accuracy test)\n",
    "eps = 0.01\n",
    "lr = 0.01\n",
    "max_iter = 100\n",
    "\n",
    "#use this code to train on the whole test_set but it is a bit long\n",
    "adv_img = np.zeros_like(test_images)\n",
    "for i in range(len(test_images)):\n",
    "    adv_img[i] = cw_attack(model, test_images[i:i+1], tf.one_hot(test_labels[i], 16), eps, lr, max_iter)\n",
    "\n",
    "# Evaluate the model on adversarial examples\n",
    "test_loss, test_acc = model.evaluate(adv_img, test_labels, verbose=2)\n",
    "print('\\nTest accuracy on adversarial images:', test_acc)"
   ]
  }
 ],
 "metadata": {
  "kernelspec": {
   "display_name": "Python 3 (ipykernel)",
   "language": "python",
   "name": "python3"
  },
  "language_info": {
   "codemirror_mode": {
    "name": "ipython",
    "version": 3
   },
   "file_extension": ".py",
   "mimetype": "text/x-python",
   "name": "python",
   "nbconvert_exporter": "python",
   "pygments_lexer": "ipython3",
   "version": "3.9.12"
  }
 },
 "nbformat": 4,
 "nbformat_minor": 5
}
