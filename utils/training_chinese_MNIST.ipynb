{
 "cells": [
  {
   "cell_type": "markdown",
   "metadata": {},
   "source": [
    "In this Notebook, we will train a CNN to solve the chinese MNIST dataset"
   ]
  },
  {
   "cell_type": "markdown",
   "metadata": {},
   "source": [
    "I - Imports & Installs"
   ]
  },
  {
   "cell_type": "code",
   "execution_count": 82,
   "metadata": {},
   "outputs": [
    {
     "name": "stdout",
     "output_type": "stream",
     "text": [
      "Requirement already satisfied: tqdm in c:\\users\\utilisateur\\miniconda3\\lib\\site-packages (4.46.0)\n"
     ]
    }
   ],
   "source": [
    "!pip install tqdm"
   ]
  },
  {
   "cell_type": "code",
   "execution_count": 83,
   "metadata": {},
   "outputs": [
    {
     "name": "stdout",
     "output_type": "stream",
     "text": [
      "Skipping, found downloaded files in \".\\chinese-mnist\" (use force=True to force download)\n"
     ]
    }
   ],
   "source": [
    "from tqdm import tqdm\n",
    "import matplotlib as plt\n",
    "import copy \n",
    "\n",
    "%run CNN_layers.ipynb\n",
    "%run Chinese_MNIST_preprocessing.ipynb\n",
    "\n",
    "# np.random.seed(0)  # For reproductibility"
   ]
  },
  {
   "cell_type": "markdown",
   "metadata": {},
   "source": [
    "II - Neural network"
   ]
  },
  {
   "cell_type": "code",
   "execution_count": 84,
   "metadata": {},
   "outputs": [],
   "source": [
    "image_bluring_layers = [avg_pool_layer((1,64 - 2*i,64 - 2*i),3) for i in range(3)]\n",
    "\n",
    "\n",
    "model = [\n",
    "    convolutionnal_layer((1,58,58),6,1, optimizer = \"moment_GD\", moment_gd_param = 0.3),\n",
    "    avg_pool_layer((1,53,53),3),\n",
    "    leakyReLU_activation_layer(),\n",
    "    reshape_layer((1,51,51),1*51*51),\n",
    "    dense_layer(1*51*51,100,optimizer = \"moment_GD\", moment_gd_param = 0.3),\n",
    "    normalize_layer1D(100),\n",
    "    sigmoid_activation_layer(),\n",
    "    dense_layer(100,15, optimizer = \"moment_GD\", moment_gd_param = 0.3),\n",
    "    normalize_layer1D(15),\n",
    "    sigmoid_activation_layer(),\n",
    "    softmax_activation_layer()\n",
    "]"
   ]
  },
  {
   "cell_type": "markdown",
   "metadata": {},
   "source": [
    "Hyperparameters\n"
   ]
  },
  {
   "cell_type": "code",
   "execution_count": 85,
   "metadata": {},
   "outputs": [],
   "source": [
    "epochs = 25\n",
    "eta = 0.05"
   ]
  },
  {
   "cell_type": "markdown",
   "metadata": {},
   "source": [
    "III - Training"
   ]
  },
  {
   "cell_type": "markdown",
   "metadata": {},
   "source": [
    "1st batch"
   ]
  },
  {
   "cell_type": "code",
   "execution_count": 86,
   "metadata": {},
   "outputs": [
    {
     "name": "stderr",
     "output_type": "stream",
     "text": [
      "  4%|▍         | 1/25 [00:19<07:51, 19.66s/it]"
     ]
    },
    {
     "name": "stdout",
     "output_type": "stream",
     "text": [
      "mean epoch 1 error :  0.21151020006640525\n"
     ]
    },
    {
     "name": "stderr",
     "output_type": "stream",
     "text": [
      "  8%|▊         | 2/25 [00:37<07:16, 18.97s/it]"
     ]
    },
    {
     "name": "stdout",
     "output_type": "stream",
     "text": [
      "mean epoch 2 error :  0.2200071803877383\n"
     ]
    }
   ],
   "source": [
    "for e in tqdm(range(epochs)) :\n",
    "\n",
    "    error = 0\n",
    "    \n",
    "    batch_copy = copy.deepcopy(batch1)\n",
    "\n",
    "    for nb_minibatch in range(38) :\n",
    "\n",
    "        minibatch = []   # minibatches of size 60\n",
    "\n",
    "        indexes = []\n",
    "\n",
    "        for nb in range(15) : \n",
    "            indices_binned = np.random.choice(160 - 4*nb_minibatch, size = 4, replace = 'False')\n",
    "            for i in range(4) :\n",
    "                minibatch.append(batch_copy[indices_binned[i] + (160 - 4*nb_minibatch)*nb])\n",
    "                indexes.append(indices_binned[i] + (160 - 4*nb_minibatch)*nb)\n",
    "        \n",
    "        indexes.sort()\n",
    "        # print(indexes)\n",
    "        i = 0 \n",
    "        for j in range(len(indexes)) :\n",
    "            ind = indexes[j] \n",
    "            del(batch_copy[ind - i])\n",
    "            i+=1\n",
    "            \n",
    "        batch_copy.sort(key = lambda x : int(x[:][1][-2:]))\n",
    "\n",
    "        np.random.shuffle(minibatch)\n",
    "\n",
    "        minibatch = preprocess(minibatch)\n",
    "\n",
    "        grad = np.zeros((15,))\n",
    "\n",
    "        for x,y in zip(minibatch[0],minibatch[1]) :\n",
    "        \n",
    "            # Forward propagation :\n",
    "            output = x\n",
    "    \n",
    "            for layer in image_bluring_layers : \n",
    "                output = layer.forward(output)\n",
    "\n",
    "            for layer in model :\n",
    "                output = layer.forward(output)\n",
    "        \n",
    "            loss = cross_entropy(output,y, nb_labels = 15)\n",
    "            error += loss.compute()\n",
    "            grad += loss.grad()\n",
    "\n",
    "\n",
    "        # Backward propagation\n",
    "\n",
    "        # grad /= 4\n",
    "\n",
    "        for layer in reversed(model) :          \n",
    "            grad = layer.backward(grad,eta)\n",
    "\n",
    "    \n",
    "    error /= 38*15*4\n",
    "    print(f\"mean epoch {e+1} error : \", str(error))"
   ]
  },
  {
   "cell_type": "markdown",
   "metadata": {},
   "source": [
    "2nd batch"
   ]
  },
  {
   "cell_type": "code",
   "execution_count": null,
   "metadata": {},
   "outputs": [],
   "source": [
    "for e in tqdm(range(epochs)) :\n",
    "\n",
    "    error = 0\n",
    "    \n",
    "    batch_copy = copy.deepcopy(batch2)\n",
    "\n",
    "    for nb_minibatch in range(38) :\n",
    "\n",
    "        minibatch = []   # minibatches of size 60\n",
    "\n",
    "        indexes = []\n",
    "\n",
    "        for nb in range(15) : \n",
    "            indices_binned = np.random.choice(160 - 4*nb_minibatch, size = 4, replace = 'False')\n",
    "            for i in range(4) :\n",
    "                minibatch.append(batch_copy[indices_binned[i] + (160 - 4*nb_minibatch)*nb])\n",
    "                indexes.append(indices_binned[i] + (160 - 4*nb_minibatch)*nb)\n",
    "        \n",
    "        indexes.sort()\n",
    "        # print(indexes)\n",
    "        i = 0 \n",
    "        for j in range(len(indexes)) :\n",
    "            ind = indexes[j] \n",
    "            del(batch_copy[ind - i])\n",
    "            i+=1\n",
    "            \n",
    "        batch_copy.sort(key = lambda x : int(x[:][1][-2:]))\n",
    "\n",
    "        np.random.shuffle(minibatch)\n",
    "\n",
    "        minibatch = preprocess(minibatch)\n",
    "\n",
    "        grad = np.zeros((15,))\n",
    "\n",
    "        for x,y in zip(minibatch[0],minibatch[1]) :\n",
    "        \n",
    "            # Forward propagation :\n",
    "            output = x\n",
    "    \n",
    "            for layer in image_bluring_layers : \n",
    "                output = layer.forward(output)\n",
    "\n",
    "            for layer in model :\n",
    "                output = layer.forward(output)\n",
    "        \n",
    "            loss = cross_entropy(output,y, nb_labels = 15)\n",
    "            error += loss.compute()\n",
    "            grad += loss.grad()\n",
    "\n",
    "\n",
    "        # Backward propagation\n",
    "\n",
    "        grad /= 4\n",
    "\n",
    "        for layer in reversed(model) :          \n",
    "            grad = layer.backward(grad,eta)\n",
    "\n",
    "    \n",
    "    error /= 38*15*4\n",
    "    print(f\"mean epoch {e+1} error : \", str(error))"
   ]
  },
  {
   "cell_type": "markdown",
   "metadata": {},
   "source": [
    "3rd batch"
   ]
  },
  {
   "cell_type": "code",
   "execution_count": null,
   "metadata": {},
   "outputs": [],
   "source": [
    "for e in tqdm(range(epochs)) :\n",
    "\n",
    "    error = 0\n",
    "    \n",
    "    batch_copy = copy.deepcopy(batch3)\n",
    "\n",
    "    for nb_minibatch in range(38) :\n",
    "\n",
    "        minibatch = []   # minibatches of size 60\n",
    "\n",
    "        indexes = []\n",
    "\n",
    "        for nb in range(15) : \n",
    "            indices_binned = np.random.choice(160 - 4*nb_minibatch, size = 4, replace = 'False')\n",
    "            for i in range(4) :\n",
    "                minibatch.append(batch_copy[indices_binned[i] + (160 - 4*nb_minibatch)*nb])\n",
    "                indexes.append(indices_binned[i] + (160 - 4*nb_minibatch)*nb)\n",
    "        \n",
    "        indexes.sort()\n",
    "        # print(indexes)\n",
    "        i = 0 \n",
    "        for j in range(len(indexes)) :\n",
    "            ind = indexes[j] \n",
    "            del(batch_copy[ind - i])\n",
    "            i+=1\n",
    "            \n",
    "        batch_copy.sort(key = lambda x : int(x[:][1][-2:]))\n",
    "\n",
    "        np.random.shuffle(minibatch)\n",
    "\n",
    "        minibatch = preprocess(minibatch)\n",
    "\n",
    "        grad = np.zeros((15,))\n",
    "\n",
    "        for x,y in zip(minibatch[0],minibatch[1]) :\n",
    "        \n",
    "            # Forward propagation :\n",
    "            output = x\n",
    "    \n",
    "            for layer in image_bluring_layers : \n",
    "                output = layer.forward(output)\n",
    "\n",
    "            for layer in model :\n",
    "                output = layer.forward(output)\n",
    "        \n",
    "            loss = cross_entropy(output,y, nb_labels = 15)\n",
    "            error += loss.compute()\n",
    "            grad += loss.grad()\n",
    "\n",
    "\n",
    "        # Backward propagation\n",
    "\n",
    "        grad /= 4\n",
    "\n",
    "        for layer in reversed(model) :          \n",
    "            grad = layer.backward(grad,eta)\n",
    "\n",
    "    \n",
    "    error /= 38*15*4\n",
    "    print(f\"mean epoch {e+1} error : \", str(error))"
   ]
  },
  {
   "cell_type": "markdown",
   "metadata": {},
   "source": [
    "4th batch"
   ]
  },
  {
   "cell_type": "code",
   "execution_count": null,
   "metadata": {},
   "outputs": [],
   "source": [
    "for e in tqdm(range(epochs)) :\n",
    "\n",
    "    error = 0\n",
    "    \n",
    "    batch_copy = copy.deepcopy(batch4)\n",
    "\n",
    "    for nb_minibatch in range(38) :\n",
    "\n",
    "        minibatch = []   # minibatches of size 60\n",
    "\n",
    "        indexes = []\n",
    "\n",
    "        for nb in range(15) : \n",
    "            indices_binned = np.random.choice(160 - 4*nb_minibatch, size = 4, replace = 'False')\n",
    "            for i in range(4) :\n",
    "                minibatch.append(batch_copy[indices_binned[i] + (160 - 4*nb_minibatch)*nb])\n",
    "                indexes.append(indices_binned[i] + (160 - 4*nb_minibatch)*nb)\n",
    "        \n",
    "        indexes.sort()\n",
    "        # print(indexes)\n",
    "        i = 0 \n",
    "        for j in range(len(indexes)) :\n",
    "            ind = indexes[j] \n",
    "            del(batch_copy[ind - i])\n",
    "            i+=1\n",
    "            \n",
    "        batch_copy.sort(key = lambda x : int(x[:][1][-2:]))\n",
    "\n",
    "        np.random.shuffle(minibatch)\n",
    "\n",
    "        minibatch = preprocess(minibatch)\n",
    "\n",
    "        grad = np.zeros((15,))\n",
    "\n",
    "        for x,y in zip(minibatch[0],minibatch[1]) :\n",
    "        \n",
    "            # Forward propagation :\n",
    "            output = x\n",
    "    \n",
    "            for layer in image_bluring_layers : \n",
    "                output = layer.forward(output)\n",
    "\n",
    "            for layer in model :\n",
    "                output = layer.forward(output)\n",
    "        \n",
    "            loss = cross_entropy(output,y, nb_labels = 15)\n",
    "            error += loss.compute()\n",
    "            grad += loss.grad()\n",
    "\n",
    "\n",
    "        # Backward propagation\n",
    "\n",
    "        grad /= 4\n",
    "\n",
    "        for layer in reversed(model) :          \n",
    "            grad = layer.backward(grad,eta)\n",
    "\n",
    "    \n",
    "    error /= 38*15*4\n",
    "    print(f\"mean epoch {e+1} error : \", str(error))"
   ]
  },
  {
   "cell_type": "markdown",
   "metadata": {},
   "source": [
    "5th batch"
   ]
  },
  {
   "cell_type": "code",
   "execution_count": null,
   "metadata": {},
   "outputs": [],
   "source": [
    "for e in tqdm(range(epochs)) :\n",
    "\n",
    "    error = 0\n",
    "    \n",
    "    batch_copy = copy.deepcopy(batch5)\n",
    "\n",
    "    for nb_minibatch in range(38) :\n",
    "\n",
    "        minibatch = []   # minibatches of size 60\n",
    "\n",
    "        indexes = []\n",
    "\n",
    "        for nb in range(15) : \n",
    "            indices_binned = np.random.choice(160 - 4*nb_minibatch, size = 4, replace = 'False')\n",
    "            for i in range(4) :\n",
    "                minibatch.append(batch_copy[indices_binned[i] + (160 - 4*nb_minibatch)*nb])\n",
    "                indexes.append(indices_binned[i] + (160 - 4*nb_minibatch)*nb)\n",
    "        \n",
    "        indexes.sort()\n",
    "        # print(indexes)\n",
    "        i = 0 \n",
    "        for j in range(len(indexes)) :\n",
    "            ind = indexes[j] \n",
    "            del(batch_copy[ind - i])\n",
    "            i+=1\n",
    "            \n",
    "        batch_copy.sort(key = lambda x : int(x[:][1][-2:]))\n",
    "\n",
    "        np.random.shuffle(minibatch)\n",
    "\n",
    "        minibatch = preprocess(minibatch)\n",
    "\n",
    "        grad = np.zeros((15,))\n",
    "\n",
    "        for x,y in zip(minibatch[0],minibatch[1]) :\n",
    "        \n",
    "            # Forward propagation :\n",
    "            output = x\n",
    "    \n",
    "            for layer in image_bluring_layers : \n",
    "                output = layer.forward(output)\n",
    "\n",
    "            for layer in model :\n",
    "                output = layer.forward(output)\n",
    "        \n",
    "            loss = cross_entropy(output,y, nb_labels = 15)\n",
    "            error += loss.compute()\n",
    "            grad += loss.grad()\n",
    "\n",
    "\n",
    "        # Backward propagation\n",
    "\n",
    "        grad /= 4\n",
    "\n",
    "        for layer in reversed(model) :          \n",
    "            grad = layer.backward(grad,eta)\n",
    "\n",
    "    \n",
    "    error /= 38*15*4\n",
    "    print(f\"mean epoch {e+1} error : \", str(error))"
   ]
  },
  {
   "cell_type": "markdown",
   "metadata": {},
   "source": [
    "Test of the network"
   ]
  },
  {
   "cell_type": "code",
   "execution_count": null,
   "metadata": {},
   "outputs": [],
   "source": [
    "\n",
    "tot_accuracy = 0\n",
    "\n",
    "for x,y in zip(preprocess(test_set[:test_label_rep[0]])[0],preprocess(test_set[:test_label_rep[0]])[1]) :\n",
    "\n",
    "    # Forward propagation :\n",
    "    output = x\n",
    "\n",
    "    for layer in image_bluring_layers : \n",
    "        output = layer.forward(output)\n",
    "    \n",
    "    for layer in model : \n",
    "        output = layer.forward(output)\n",
    "        \n",
    "    if np.argmax(output) == np.argmax(y) :\n",
    "         \n",
    "        tot_accuracy += 1\n",
    "\n",
    "print(f\"accuracy for the 0 class : {100*tot_accuracy/800}\")\n",
    "\n",
    "for nb in range(1,15):\n",
    "\n",
    "    accuracy = 0\n",
    "\n",
    "    for x,y in zip(preprocess(test_set)[0],preprocess(test_set)[1]) :\n",
    "\n",
    "        # Forward propagation :\n",
    "        output = x\n",
    "\n",
    "        for layer in image_bluring_layers : \n",
    "            output = layer.forward(output)\n",
    "        \n",
    "        if np.argmax(output) == np.argmax(y) :\n",
    "            \n",
    "            accuracy += 1\n",
    "\n",
    "    tot_accuracy += accuracy\n",
    "\n",
    "    print(\"accuracy for the \" + str(nb) + f\" class : {100*accuracy/800}\")\n",
    "\n",
    "print(f\"total accuracy : {100*accuracy/len(test_set)}\")      "
   ]
  },
  {
   "cell_type": "code",
   "execution_count": null,
   "metadata": {},
   "outputs": [],
   "source": [
    "c = 0\n",
    "np.random.shuffle(test_set)\n",
    "for x,y in zip(preprocess(test_set)[0],preprocess(test_set)[1]) :\n",
    "\n",
    "    if c > 5 : \n",
    "        break\n",
    "    # Forward propagation :\n",
    "    output = x\n",
    "\n",
    "    for layer in image_bluring_layers : \n",
    "        output = layer.forward(output)\n",
    "    \n",
    "    for layer in model : \n",
    "        output = layer.forward(output)\n",
    "\n",
    "    print(np.argmax(y))\n",
    "    print(np.argmax(output))\n",
    "    print(output)\n",
    "    \n",
    "    c+=1\n"
   ]
  }
 ],
 "metadata": {
  "kernelspec": {
   "display_name": "base",
   "language": "python",
   "name": "python3"
  },
  "language_info": {
   "codemirror_mode": {
    "name": "ipython",
    "version": 3
   },
   "file_extension": ".py",
   "mimetype": "text/x-python",
   "name": "python",
   "nbconvert_exporter": "python",
   "pygments_lexer": "ipython3",
   "version": "3.8.3"
  }
 },
 "nbformat": 4,
 "nbformat_minor": 2
}
