{
 "cells": [
  {
   "cell_type": "markdown",
   "metadata": {},
   "source": [
    "In this Notebook, we will train a CNN to solve the chinese MNIST dataset"
   ]
  },
  {
   "cell_type": "markdown",
   "metadata": {},
   "source": [
    "I - Imports & Installs"
   ]
  },
  {
   "cell_type": "code",
   "execution_count": 9,
   "metadata": {},
   "outputs": [
    {
     "name": "stdout",
     "output_type": "stream",
     "text": [
      "Skipping, found downloaded files in \".\\chinese-mnist\" (use force=True to force download)\n"
     ]
    }
   ],
   "source": [
    "import matplotlib as plt\n",
    "\n",
    "%run CNN_layers.ipynb\n",
    "%run Chinese_MNIST_preprocessing.ipynb"
   ]
  },
  {
   "cell_type": "markdown",
   "metadata": {},
   "source": [
    "II - Neural network"
   ]
  },
  {
   "cell_type": "code",
   "execution_count": 10,
   "metadata": {},
   "outputs": [],
   "source": [
    "model = [\n",
    "    convolutionnal_layer((1,64,64),16,1),\n",
    "    sigmoid_activation_layer(),\n",
    "    convolutionnal_layer((1,49,49),8,2),\n",
    "    sigmoid_activation_layer(),\n",
    "    convolutionnal_layer((2,42,42),4,3),\n",
    "    sigmoid_activation_layer(),\n",
    "    avg_pool_layer((6,39,39),15),\n",
    "    reshape_layer((6,25,25),(6*25*25)),\n",
    "    dense_layer(6*25*25,100),\n",
    "    sigmoid_activation_layer(),\n",
    "    dense_layer(100,15),\n",
    "    sigmoid_activation_layer()    \n",
    "]\n",
    "\n",
    "# Hyper parameters\n",
    "\n",
    "epoch = 10\n",
    "eta = 0.1"
   ]
  },
  {
   "cell_type": "markdown",
   "metadata": {},
   "source": [
    "III - Training"
   ]
  },
  {
   "cell_type": "code",
   "execution_count": null,
   "metadata": {},
   "outputs": [],
   "source": [
    "for e in range(epochs) :\n",
    "\n",
    "    error = 0\n",
    "\n",
    "    for x,y in preprocess(batch1) :\n",
    "\n",
    "        # Forward propagation :\n",
    "\n",
    "        output = X\n",
    "\n",
    "        for layer in model :\n",
    "            \n",
    "            output = layer.forward(output)\n",
    "\n",
    "        # error \n",
    "            \n",
    "        cel = cross_entropy_layer(output,y)\n",
    "        error += cel.compute()\n",
    "\n",
    "        # Backward propagation\n",
    "\n",
    "        grad = cel.grad()\n",
    "        \n",
    "        for layer in reversed(model) :\n",
    "\n",
    "            grad = layer.backward(grad,eta)\n",
    "\n",
    "        error /= len(batch1)\n",
    "        print(f\"{e+1}/epoch, error = {error}\")\n"
   ]
  }
 ],
 "metadata": {
  "kernelspec": {
   "display_name": "base",
   "language": "python",
   "name": "python3"
  },
  "language_info": {
   "codemirror_mode": {
    "name": "ipython",
    "version": 3
   },
   "file_extension": ".py",
   "mimetype": "text/x-python",
   "name": "python",
   "nbconvert_exporter": "python",
   "pygments_lexer": "ipython3",
   "version": "3.10.11"
  }
 },
 "nbformat": 4,
 "nbformat_minor": 2
}
