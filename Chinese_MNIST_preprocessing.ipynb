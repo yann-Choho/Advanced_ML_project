{
 "cells": [
  {
   "cell_type": "markdown",
   "metadata": {},
   "source": [
    "I - Installs & Imports"
   ]
  },
  {
   "cell_type": "code",
   "execution_count": null,
   "metadata": {},
   "outputs": [],
   "source": [
    "### Installs ###\n",
    "\n",
    "# !pip install --upgrade pip\n",
    "# !pip install keras_preprocessing\n",
    "# !pip install keras.utils\n",
    "# !pip install np_utils"
   ]
  },
  {
   "cell_type": "code",
   "execution_count": 15,
   "metadata": {},
   "outputs": [],
   "source": [
    "### Imports ###\n",
    "\n",
    "import opendatasets as od                \n",
    "import os\n",
    "\n",
    "import pandas as pd\n",
    "import numpy as np\n",
    "\n",
    "from keras_preprocessing import image  \n",
    "from keras.utils import to_categorical\n",
    " \n",
    "import PIL\n",
    "from PIL import Image\n"
   ]
  },
  {
   "cell_type": "markdown",
   "metadata": {},
   "source": [
    "II - Data collecting"
   ]
  },
  {
   "cell_type": "markdown",
   "metadata": {},
   "source": [
    "We first import our data from kaggle. To do so we use the download function from the opedataset module. A kaggle API will require us to input our credentials. Here is how to obtain them : \n",
    "\n",
    "1) sign in to kaggle\n",
    "2) go to the API section\n",
    "3) select the \"create token\" option, a jason file will be downloaded\n",
    "4) enter first your usename then the key, both without the double apostrophes"
   ]
  },
  {
   "cell_type": "code",
   "execution_count": null,
   "metadata": {},
   "outputs": [],
   "source": [
    "od.download(\"https://www.kaggle.com/datasets/gpreda/chinese-mnist/download?datasetVersionNumber=7\")"
   ]
  },
  {
   "cell_type": "markdown",
   "metadata": {},
   "source": [
    "The above cell tells us a directory where the dataset has been downloaded, we need to use the os module to get the name of the different files in the dataset as follows :"
   ]
  },
  {
   "cell_type": "code",
   "execution_count": null,
   "metadata": {},
   "outputs": [],
   "source": [
    "datadir = '.\\chinese-mnist'\n",
    "os.listdir(datadir)"
   ]
  },
  {
   "cell_type": "code",
   "execution_count": null,
   "metadata": {},
   "outputs": [],
   "source": [
    "filename = datadir + '\\chinese_mnist.csv'\n",
    "chinese_mnist_dtf = pd.read_csv(filename)\n",
    "\n",
    "chinese_mnist_dtf.head(15)\n",
    "\n",
    "# suite_id = volunteer_id is in range(1,100)\n",
    "# sample_id is in range(1,10)\n",
    "# code is in range(1,15)"
   ]
  },
  {
   "cell_type": "markdown",
   "metadata": {},
   "source": [
    "Our Images are in the directory : '.\\chinese-mnist\\data\\data'. \n",
    "Each files name is of the form : 'input_volunteer_sample_number.jpg' where volunteer range from 1 to 100, sample from 1 to 10 and number from 1 to 15\n",
    "\n",
    "Let's create a list of the pixel value matrices of our images"
   ]
  },
  {
   "cell_type": "code",
   "execution_count": 16,
   "metadata": {},
   "outputs": [],
   "source": [
    "### We transform the images to pixel values matrices stored in a dictionary ###\n",
    "\n",
    "data = {}\n",
    "\n",
    "for nb in range(1,16) :\n",
    "    for vol in range(1,101) :\n",
    "        for sample in range(1,11) :\n",
    "            \n",
    "            img_path = \".\\chinese-mnist\\data\\data\\input_\" + str(vol) + \"_\" + str(sample) + \"_\" + str(nb) +\".jpg\" \n",
    "            img = image.load_img(img_path, target_size=(64, 64), color_mode = 'grayscale')\n",
    "            px_mat = image.img_to_array(img)\n",
    "\n",
    "            if nb < 10 : \n",
    "                data[str(vol) +'_'+ str(sample) +'_0' + str(nb)] = px_mat\n",
    "\n",
    "            if nb >= 10 :  \n",
    "                data[str(vol) +'_'+ str(sample) +'_' + str(nb)] = px_mat\n",
    "\n",
    "\n",
    "\n",
    "### line to show the image from the pixel value matrix ###\n",
    "            \n",
    "# Image.fromarray(x[:,:,0]).show() with x a pixel value matrix"
   ]
  },
  {
   "cell_type": "markdown",
   "metadata": {},
   "source": [
    "III - Data preprocessing"
   ]
  },
  {
   "cell_type": "markdown",
   "metadata": {},
   "source": [
    "Test set :"
   ]
  },
  {
   "cell_type": "code",
   "execution_count": 17,
   "metadata": {},
   "outputs": [],
   "source": [
    "# Let's extract a test set with the same number of occurrences for each outputs \n",
    "# We want 20% of our data in this test set that is 3000 images\n",
    "\n",
    "np.random.seed(0)  # For reproductibility\n",
    "\n",
    "test_keys = []\n",
    "\n",
    "for nb in range(1,16) :\n",
    "\n",
    "    for vol in range(1,101) :\n",
    "\n",
    "        spl_indices = np.random.choice(np.arange(1,11), 2, replace = False)\n",
    "        for spl in list(spl_indices) :\n",
    "\n",
    "            if nb < 10 : \n",
    "                test_keys.append(str(vol) +'_' + str(spl)+ '_0' + str(nb))\n",
    "\n",
    "            if nb >= 10 :\n",
    "                test_keys.append(str(vol) +'_' + str(spl)+ '_' + str(nb))\n",
    "        \n",
    "test_set = []\n",
    "\n",
    "for key in  test_keys :\n",
    "\n",
    "    test_set.append((data[key], key))\n",
    "\n",
    "np.random.shuffle(test_set)"
   ]
  },
  {
   "cell_type": "markdown",
   "metadata": {},
   "source": [
    "Train set :"
   ]
  },
  {
   "cell_type": "code",
   "execution_count": 18,
   "metadata": {},
   "outputs": [],
   "source": [
    "### Let's get our training set\n",
    "\n",
    "train_keys = list(data.keys())\n",
    "\n",
    "for key in test_keys :\n",
    "\n",
    "    train_keys.remove(key)\n",
    "\n",
    "train_set = []\n",
    "for key in  train_keys :\n",
    "\n",
    "    train_set.append((data[key], key))\n",
    "\n",
    "np.random.shuffle(train_set)"
   ]
  },
  {
   "cell_type": "markdown",
   "metadata": {},
   "source": [
    "Batches if needed :"
   ]
  },
  {
   "cell_type": "code",
   "execution_count": 20,
   "metadata": {},
   "outputs": [],
   "source": [
    "## With batches\n",
    "    \n",
    "train_keys.sort(key = lambda x : int(x[-2:])) #each output appears 990 times in the list\n",
    "\n",
    "# Let's now extract our training set in five batches \n",
    "\n",
    "batch1 = []\n",
    "batch2 = []\n",
    "batch3 = []\n",
    "batch4 = []\n",
    "batch5 = []\n",
    "\n",
    "for nb in range(15) : \n",
    "\n",
    "    indices_binned = np.random.choice(800, (5,160), replace = 'False')\n",
    "\n",
    "    for k in range(160) :\n",
    "        \n",
    "        key1 = train_keys[indices_binned[0][k] + nb*800]\n",
    "        key2 = train_keys[indices_binned[1][k] + nb*800]\n",
    "        key3 = train_keys[indices_binned[2][k] + nb*800]\n",
    "        key4 = train_keys[indices_binned[3][k] + nb*800]\n",
    "        key5 = train_keys[indices_binned[4][k] + nb*800]\n",
    "\n",
    "        batch1.append((data[key1], key1))\n",
    "        batch2.append((data[key2], key1))\n",
    "        batch3.append((data[key3], key1))\n",
    "        batch4.append((data[key4], key1))\n",
    "        batch5.append((data[key5], key1))\n",
    "\n",
    "\n",
    "\n",
    "np.random.shuffle(batch1)\n",
    "np.random.shuffle(batch2) \n",
    "np.random.shuffle(batch3) \n",
    "np.random.shuffle(batch4) \n",
    "np.random.shuffle(batch5) "
   ]
  },
  {
   "cell_type": "markdown",
   "metadata": {},
   "source": [
    "IV - Preprocess function "
   ]
  },
  {
   "cell_type": "code",
   "execution_count": null,
   "metadata": {},
   "outputs": [],
   "source": [
    "def preprocess(batch) : \n",
    "    \"\"\" Function that take for argument a dictionary of images and return a tuple made of the image in the key both in the right format to be passed in the CNN\"\"\"\n",
    "\n",
    "    nb_input = len(batch)  #\n",
    "    X = np.zeros((nb_input,64,64,1))\n",
    "    Y = np.zeros((nb_input))\n",
    "    \n",
    "    for i in range(nb_input) :\n",
    "        \n",
    "        X[i] = batch[i][0]\n",
    "        Y[i] = float(batch[i][1][-2:]) - 1\n",
    "\n",
    "    X = X.reshape(len(X),1,64,64)\n",
    "    X.astype('float32')/255\n",
    "\n",
    "    Y = to_categorical(Y, num_classes=15)\n",
    "    Y = Y.reshape(nb_input,15,1)\n",
    "    \n",
    "    return X,Y"
   ]
  }
 ],
 "metadata": {
  "kernelspec": {
   "display_name": "base",
   "language": "python",
   "name": "python3"
  },
  "language_info": {
   "codemirror_mode": {
    "name": "ipython",
    "version": 3
   },
   "file_extension": ".py",
   "mimetype": "text/x-python",
   "name": "python",
   "nbconvert_exporter": "python",
   "pygments_lexer": "ipython3",
   "version": "3.8.3"
  }
 },
 "nbformat": 4,
 "nbformat_minor": 2
}
