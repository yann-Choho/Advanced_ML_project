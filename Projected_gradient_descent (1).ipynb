{
 "cells": [
  {
   "cell_type": "code",
   "execution_count": 1,
   "id": "9d88a33a",
   "metadata": {},
   "outputs": [],
   "source": [
    "import tensorflow as tf\n",
    "import numpy as np"
   ]
  },
  {
   "cell_type": "code",
   "execution_count": null,
   "id": "b7e3845e",
   "metadata": {},
   "outputs": [],
   "source": [
    "%run training.ipynb"
   ]
  },
  {
   "cell_type": "code",
   "execution_count": null,
   "id": "89d40ba0",
   "metadata": {},
   "outputs": [],
   "source": [
    "# Implementation of the PGD Attack with the model trained in training.ipynb\n",
    "def pgd_attack(model, img, labels, eps, alpha, num_iter):\n",
    "    img_disturbed = img\n",
    "    for _ in range(num_iter):\n",
    "        with tf.GradientTape() as t:\n",
    "            t.watch(img_disturbed)\n",
    "            predictions = model(img_disturbed)\n",
    "            loss = SparseCategoricalCrossentropy(from_logits=True)(labels, predictions)\n",
    "\n",
    "        gradients = t.gradient(loss, img_disturbed)\n",
    "        img_disturbed = img_disturbed + alpha * tf.sign(gradients)\n",
    "        img_disturbed = tf.clip_by_value(img_disturbed, img - epsilon, img + epsilon)\n",
    "        img_disturbed = tf.clip_by_value(img_disturbed, 0, 1)\n",
    "    return img_disturbed\n",
    "\n",
    "# We set the parameters\n",
    "epsilon = 0.1  \n",
    "alpha = 0.01 \n",
    "num_iter = 40  \n",
    "\n",
    "#we separate labels and images from our test set\n",
    "for i in range(len(test_set)):\n",
    "    test_images.append(test_set[i][0])\n",
    "    test_labels.append(int(test_set[i][1][-2:]))\n",
    "    \n",
    "test_images = np.array(test_images)\n",
    "test_labels = np.array(test_labels)\n",
    "\n",
    "#we apply the PGD to our test set \n",
    "test_img_tensors = tf.convert_to_tensor(test_images) #convert images into tensors\n",
    "adversarial_images = pgd_attack(model, test_img_tensors, test_labels, epsilon, alpha, num_iter)\n",
    "\n",
    "# Evaluate the model on adversarial examples\n",
    "test_loss, test_acc = model.evaluate(adversarial_images, test_labels, verbose=2)\n",
    "print('\\nTest accuracy on adversarial images:', test_acc)"
   ]
  },
  {
   "cell_type": "code",
   "execution_count": null,
   "id": "0f284a49",
   "metadata": {},
   "outputs": [],
   "source": [
    "#here is a comparison of an image before and after the perturbation\n",
    "from PIL import Image\n",
    "tf.keras.utils.array_to_img(test_image[0])\n",
    "tf.keras.utils.array_to_img(img_adversarial[0])"
   ]
  }
 ],
 "metadata": {
  "kernelspec": {
   "display_name": "Python 3 (ipykernel)",
   "language": "python",
   "name": "python3"
  },
  "language_info": {
   "codemirror_mode": {
    "name": "ipython",
    "version": 3
   },
   "file_extension": ".py",
   "mimetype": "text/x-python",
   "name": "python",
   "nbconvert_exporter": "python",
   "pygments_lexer": "ipython3",
   "version": "3.9.12"
  }
 },
 "nbformat": 4,
 "nbformat_minor": 5
}
