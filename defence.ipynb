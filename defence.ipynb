{
 "cells": [
  {
   "cell_type": "markdown",
   "metadata": {},
   "source": [
    "# NOTEBOOK FOR DEFENSE TECHNQUES"
   ]
  },
  {
   "cell_type": "code",
   "execution_count": 1,
   "metadata": {},
   "outputs": [
    {
     "name": "stdout",
     "output_type": "stream",
     "text": [
      "WARNING:tensorflow:From C:\\Users\\choho\\AppData\\Local\\Packages\\PythonSoftwareFoundation.Python.3.10_qbz5n2kfra8p0\\LocalCache\\local-packages\\Python310\\site-packages\\keras\\src\\losses.py:2976: The name tf.losses.sparse_softmax_cross_entropy is deprecated. Please use tf.compat.v1.losses.sparse_softmax_cross_entropy instead.\n",
      "\n",
      "Skipping, found downloaded files in \".\\chinese-mnist\" (use force=True to force download)\n"
     ]
    }
   ],
   "source": [
    "%run Chinese_MNIST_preprocessing.ipynb"
   ]
  },
  {
   "cell_type": "code",
   "execution_count": 2,
   "metadata": {},
   "outputs": [],
   "source": [
    "# import of libraries\n",
    "import torch\n",
    "import torch.nn as nn\n",
    "import torch.optim as optim\n"
   ]
  },
  {
   "cell_type": "markdown",
   "metadata": {},
   "source": [
    "# 1. ADVERSARIAL TRAINING"
   ]
  },
  {
   "cell_type": "code",
   "execution_count": 3,
   "metadata": {},
   "outputs": [
    {
     "name": "stdout",
     "output_type": "stream",
     "text": [
      "CNNModel(\n",
      "  (features): Sequential(\n",
      "    (0): Conv2d(1, 16, kernel_size=(3, 3), stride=(1, 1), padding=(1, 1))\n",
      "    (1): ReLU()\n",
      "    (2): MaxPool2d(kernel_size=2, stride=2, padding=0, dilation=1, ceil_mode=False)\n",
      "    (3): Conv2d(16, 32, kernel_size=(3, 3), stride=(1, 1), padding=(1, 1))\n",
      "    (4): ReLU()\n",
      "    (5): MaxPool2d(kernel_size=2, stride=2, padding=0, dilation=1, ceil_mode=False)\n",
      "  )\n",
      "  (classifier): Sequential(\n",
      "    (0): Linear(in_features=8192, out_features=128, bias=True)\n",
      "    (1): ReLU()\n",
      "    (2): Linear(in_features=128, out_features=15, bias=True)\n",
      "  )\n",
      ")\n"
     ]
    }
   ],
   "source": [
    "import torch.nn as nn\n",
    "\n",
    "class CNNModel(nn.Module):\n",
    "    def __init__(self, num_classes=15):\n",
    "        super(CNNModel, self).__init__()\n",
    "\n",
    "        self.features = nn.Sequential(\n",
    "            nn.Conv2d(1, 16, kernel_size=3, stride=1, padding=1),\n",
    "            nn.ReLU(),\n",
    "            nn.MaxPool2d(kernel_size=2, stride=2),\n",
    "            nn.Conv2d(16, 32, kernel_size=3, stride=1, padding=1),\n",
    "            nn.ReLU(),\n",
    "            nn.MaxPool2d(kernel_size=2, stride=2)\n",
    "        )\n",
    "\n",
    "        # Calculez la taille de la première couche linéaire en fonction de la sortie des couches de convolution\n",
    "        self.fc1_input_size = 32 * 16 * 16  # 32 canaux, 16x16 taille après max-pooling\n",
    "\n",
    "        self.classifier = nn.Sequential(\n",
    "            nn.Linear(self.fc1_input_size, 128),\n",
    "            nn.ReLU(),\n",
    "            nn.Linear(128, num_classes)\n",
    "        )\n",
    "\n",
    "    def forward(self, x):\n",
    "        x = self.features(x)\n",
    "        x = x.reshape(x.size(0), -1) \n",
    "        x = self.classifier(x)\n",
    "        return x\n",
    "\n",
    "# Créer une instance du modèle\n",
    "model = CNNModel(num_classes=15)\n",
    "\n",
    "# Afficher le modèle\n",
    "print(model)\n"
   ]
  },
  {
   "cell_type": "code",
   "execution_count": 4,
   "metadata": {},
   "outputs": [
    {
     "name": "stderr",
     "output_type": "stream",
     "text": [
      "C:\\Users\\choho\\AppData\\Local\\Temp\\ipykernel_29304\\1652656436.py:10: UserWarning: Creating a tensor from a list of numpy.ndarrays is extremely slow. Please consider converting the list to a single numpy.ndarray with numpy.array() before converting to a tensor. (Triggered internally at ..\\torch\\csrc\\utils\\tensor_new.cpp:264.)\n",
      "  set_img_tensors = torch.tensor(set_images, dtype=torch.float32).permute(0, 3, 1, 2)\n"
     ]
    }
   ],
   "source": [
    "def prepare_set_data(set_set):\n",
    "    set_images = []\n",
    "    set_labels = []\n",
    "\n",
    "    # Séparer les étiquettes et les images de l'ensemble de données\n",
    "    for i in range(len(set_set)):\n",
    "        set_images.append(set_set[i][0])\n",
    "        set_labels.append(int(set_set[i][1][-2:]) - 1)  # Soustraire 1 ici (donc 0 correspond à 01, 1 à 02, etc.)\n",
    "\n",
    "    set_img_tensors = torch.tensor(set_images, dtype=torch.float32).permute(0, 3, 1, 2)\n",
    "    set_labels = torch.tensor(set_labels, dtype=torch.long)\n",
    "\n",
    "    return set_img_tensors, set_labels\n",
    "\n",
    "\n",
    "test_img_tensors, test_labels = prepare_set_data(test_set)\n",
    "train_img_tensors, train_labels = prepare_set_data(train_set)\n"
   ]
  },
  {
   "cell_type": "code",
   "execution_count": 5,
   "metadata": {},
   "outputs": [],
   "source": [
    "# put into dataloader because we will use mini-batch gradient descent\n",
    "from torch.utils.data import TensorDataset, DataLoader\n",
    "\n",
    "train_dataset = TensorDataset(train_img_tensors, train_labels)\n",
    "train_loader = DataLoader(dataset=train_dataset, batch_size=100, shuffle=True)\n",
    "\n",
    "test_dataset = TensorDataset(test_img_tensors, test_labels)\n",
    "test_loader = DataLoader(dataset=test_dataset, batch_size=100, shuffle=False)"
   ]
  },
  {
   "cell_type": "markdown",
   "metadata": {},
   "source": [
    "# training"
   ]
  },
  {
   "cell_type": "code",
   "execution_count": 24,
   "metadata": {},
   "outputs": [
    {
     "name": "stdout",
     "output_type": "stream",
     "text": [
      "Époque 1/50\n",
      "Entraînement - Perte: 0.0443, Accuracy: 0.9876\n",
      "Validation - Perte: 0.4642, Accuracy: 0.9553\n",
      "Époque 2/50\n",
      "Entraînement - Perte: 0.0222, Accuracy: 0.9939\n",
      "Validation - Perte: 0.4039, Accuracy: 0.9570\n",
      "Époque 3/50\n",
      "Entraînement - Perte: 0.0091, Accuracy: 0.9979\n",
      "Validation - Perte: 0.3336, Accuracy: 0.9617\n",
      "Époque 4/50\n",
      "Entraînement - Perte: 0.0048, Accuracy: 0.9990\n",
      "Validation - Perte: 0.3105, Accuracy: 0.9680\n",
      "Époque 5/50\n",
      "Entraînement - Perte: 0.0007, Accuracy: 1.0000\n",
      "Validation - Perte: 0.2990, Accuracy: 0.9680\n",
      "Époque 6/50\n",
      "Entraînement - Perte: 0.0004, Accuracy: 1.0000\n",
      "Validation - Perte: 0.3010, Accuracy: 0.9677\n",
      "Époque 7/50\n",
      "Entraînement - Perte: 0.0003, Accuracy: 1.0000\n",
      "Validation - Perte: 0.3007, Accuracy: 0.9680\n",
      "Époque 8/50\n",
      "Entraînement - Perte: 0.0003, Accuracy: 1.0000\n",
      "Validation - Perte: 0.3028, Accuracy: 0.9677\n",
      "Époque 9/50\n",
      "Entraînement - Perte: 0.0003, Accuracy: 1.0000\n",
      "Validation - Perte: 0.3035, Accuracy: 0.9677\n",
      "Époque 10/50\n",
      "Entraînement - Perte: 0.0002, Accuracy: 1.0000\n",
      "Validation - Perte: 0.3041, Accuracy: 0.9680\n",
      "Époque 11/50\n",
      "Entraînement - Perte: 0.0002, Accuracy: 1.0000\n",
      "Validation - Perte: 0.3049, Accuracy: 0.9677\n",
      "Époque 12/50\n",
      "Entraînement - Perte: 0.0002, Accuracy: 1.0000\n",
      "Validation - Perte: 0.3056, Accuracy: 0.9683\n",
      "Époque 13/50\n",
      "Entraînement - Perte: 0.0002, Accuracy: 1.0000\n",
      "Validation - Perte: 0.3065, Accuracy: 0.9673\n",
      "Époque 14/50\n",
      "Entraînement - Perte: 0.0002, Accuracy: 1.0000\n",
      "Validation - Perte: 0.3070, Accuracy: 0.9673\n",
      "Époque 15/50\n",
      "Entraînement - Perte: 0.0002, Accuracy: 1.0000\n",
      "Validation - Perte: 0.3075, Accuracy: 0.9673\n",
      "Époque 16/50\n",
      "Entraînement - Perte: 0.0002, Accuracy: 1.0000\n",
      "Validation - Perte: 0.3079, Accuracy: 0.9677\n",
      "Époque 17/50\n",
      "Entraînement - Perte: 0.0002, Accuracy: 1.0000\n",
      "Validation - Perte: 0.3087, Accuracy: 0.9673\n",
      "Époque 18/50\n",
      "Entraînement - Perte: 0.0002, Accuracy: 1.0000\n",
      "Validation - Perte: 0.3093, Accuracy: 0.9673\n",
      "Époque 19/50\n",
      "Entraînement - Perte: 0.0001, Accuracy: 1.0000\n",
      "Validation - Perte: 0.3097, Accuracy: 0.9680\n",
      "Époque 20/50\n",
      "Entraînement - Perte: 0.0001, Accuracy: 1.0000\n",
      "Validation - Perte: 0.3103, Accuracy: 0.9680\n",
      "Époque 21/50\n",
      "Entraînement - Perte: 0.0001, Accuracy: 1.0000\n",
      "Validation - Perte: 0.3111, Accuracy: 0.9673\n",
      "Époque 22/50\n",
      "Entraînement - Perte: 0.0001, Accuracy: 1.0000\n",
      "Validation - Perte: 0.3113, Accuracy: 0.9673\n",
      "Époque 23/50\n",
      "Entraînement - Perte: 0.0001, Accuracy: 1.0000\n",
      "Validation - Perte: 0.3122, Accuracy: 0.9670\n",
      "Époque 24/50\n",
      "Entraînement - Perte: 0.0001, Accuracy: 1.0000\n",
      "Validation - Perte: 0.3125, Accuracy: 0.9673\n",
      "Époque 25/50\n",
      "Entraînement - Perte: 0.0001, Accuracy: 1.0000\n",
      "Validation - Perte: 0.3130, Accuracy: 0.9673\n",
      "Époque 26/50\n",
      "Entraînement - Perte: 0.0001, Accuracy: 1.0000\n",
      "Validation - Perte: 0.3134, Accuracy: 0.9677\n",
      "Époque 27/50\n",
      "Entraînement - Perte: 0.0001, Accuracy: 1.0000\n",
      "Validation - Perte: 0.3138, Accuracy: 0.9677\n",
      "Époque 28/50\n",
      "Entraînement - Perte: 0.0001, Accuracy: 1.0000\n",
      "Validation - Perte: 0.3142, Accuracy: 0.9677\n",
      "Époque 29/50\n",
      "Entraînement - Perte: 0.0001, Accuracy: 1.0000\n",
      "Validation - Perte: 0.3149, Accuracy: 0.9670\n",
      "Époque 30/50\n",
      "Entraînement - Perte: 0.0001, Accuracy: 1.0000\n",
      "Validation - Perte: 0.3151, Accuracy: 0.9673\n",
      "Époque 31/50\n",
      "Entraînement - Perte: 0.0001, Accuracy: 1.0000\n",
      "Validation - Perte: 0.3155, Accuracy: 0.9673\n",
      "Époque 32/50\n",
      "Entraînement - Perte: 0.0001, Accuracy: 1.0000\n",
      "Validation - Perte: 0.3160, Accuracy: 0.9673\n",
      "Époque 33/50\n",
      "Entraînement - Perte: 0.0001, Accuracy: 1.0000\n",
      "Validation - Perte: 0.3165, Accuracy: 0.9673\n",
      "Époque 34/50\n",
      "Entraînement - Perte: 0.0001, Accuracy: 1.0000\n",
      "Validation - Perte: 0.3168, Accuracy: 0.9677\n",
      "Époque 35/50\n",
      "Entraînement - Perte: 0.0001, Accuracy: 1.0000\n",
      "Validation - Perte: 0.3170, Accuracy: 0.9670\n",
      "Époque 36/50\n",
      "Entraînement - Perte: 0.0001, Accuracy: 1.0000\n",
      "Validation - Perte: 0.3173, Accuracy: 0.9670\n",
      "Époque 37/50\n",
      "Entraînement - Perte: 0.0001, Accuracy: 1.0000\n",
      "Validation - Perte: 0.3176, Accuracy: 0.9670\n",
      "Époque 38/50\n",
      "Entraînement - Perte: 0.0001, Accuracy: 1.0000\n",
      "Validation - Perte: 0.3181, Accuracy: 0.9673\n",
      "Époque 39/50\n",
      "Entraînement - Perte: 0.0001, Accuracy: 1.0000\n",
      "Validation - Perte: 0.3185, Accuracy: 0.9670\n",
      "Époque 40/50\n",
      "Entraînement - Perte: 0.0001, Accuracy: 1.0000\n",
      "Validation - Perte: 0.3188, Accuracy: 0.9673\n",
      "Époque 41/50\n",
      "Entraînement - Perte: 0.0001, Accuracy: 1.0000\n",
      "Validation - Perte: 0.3191, Accuracy: 0.9670\n",
      "Époque 42/50\n",
      "Entraînement - Perte: 0.0001, Accuracy: 1.0000\n",
      "Validation - Perte: 0.3195, Accuracy: 0.9673\n",
      "Époque 43/50\n",
      "Entraînement - Perte: 0.0001, Accuracy: 1.0000\n",
      "Validation - Perte: 0.3198, Accuracy: 0.9673\n",
      "Époque 44/50\n",
      "Entraînement - Perte: 0.0001, Accuracy: 1.0000\n",
      "Validation - Perte: 0.3202, Accuracy: 0.9677\n",
      "Époque 45/50\n",
      "Entraînement - Perte: 0.0001, Accuracy: 1.0000\n",
      "Validation - Perte: 0.3206, Accuracy: 0.9677\n",
      "Époque 46/50\n",
      "Entraînement - Perte: 0.0001, Accuracy: 1.0000\n",
      "Validation - Perte: 0.3209, Accuracy: 0.9677\n",
      "Époque 47/50\n",
      "Entraînement - Perte: 0.0001, Accuracy: 1.0000\n",
      "Validation - Perte: 0.3212, Accuracy: 0.9677\n",
      "Époque 48/50\n",
      "Entraînement - Perte: 0.0001, Accuracy: 1.0000\n",
      "Validation - Perte: 0.3214, Accuracy: 0.9673\n",
      "Époque 49/50\n",
      "Entraînement - Perte: 0.0001, Accuracy: 1.0000\n",
      "Validation - Perte: 0.3217, Accuracy: 0.9677\n",
      "Époque 50/50\n",
      "Entraînement - Perte: 0.0001, Accuracy: 1.0000\n",
      "Validation - Perte: 0.3221, Accuracy: 0.9677\n"
     ]
    },
    {
     "data": {
      "text/plain": [
       "CNNModel(\n",
       "  (features): Sequential(\n",
       "    (0): Conv2d(1, 16, kernel_size=(3, 3), stride=(1, 1), padding=(1, 1))\n",
       "    (1): ReLU()\n",
       "    (2): MaxPool2d(kernel_size=2, stride=2, padding=0, dilation=1, ceil_mode=False)\n",
       "    (3): Conv2d(16, 32, kernel_size=(3, 3), stride=(1, 1), padding=(1, 1))\n",
       "    (4): ReLU()\n",
       "    (5): MaxPool2d(kernel_size=2, stride=2, padding=0, dilation=1, ceil_mode=False)\n",
       "  )\n",
       "  (classifier): Sequential(\n",
       "    (0): Linear(in_features=8192, out_features=128, bias=True)\n",
       "    (1): ReLU()\n",
       "    (2): Linear(in_features=128, out_features=15, bias=True)\n",
       "  )\n",
       ")"
      ]
     },
     "execution_count": 24,
     "metadata": {},
     "output_type": "execute_result"
    }
   ],
   "source": [
    "# Fonction d'entraînement\n",
    "def train_one_epoch(model, dataloader, optimizer, loss_fn, device):\n",
    "    model.train()\n",
    "    total_loss = 0.0\n",
    "    total_correct = 0\n",
    "    total_samples = 0\n",
    "\n",
    "    for batch in dataloader:\n",
    "        images, labels = batch\n",
    "        images, labels = images.to(device), labels.to(device)\n",
    "\n",
    "        optimizer.zero_grad()\n",
    "        outputs = model(images)\n",
    "        loss = loss_fn(outputs, labels)\n",
    "        loss.backward()\n",
    "        optimizer.step()\n",
    "\n",
    "        total_loss += loss.item()\n",
    "        _, predicted = torch.max(outputs, 1)\n",
    "        total_correct += (predicted == labels).sum().item()\n",
    "        total_samples += labels.size(0)\n",
    "\n",
    "    return {'output': outputs,  # Pour afficher les prédictions sur le dernier lot\n",
    "        'train_loss': total_loss / len(dataloader),\n",
    "        'train_acc': total_correct / total_samples,\n",
    "    }\n",
    "\n",
    "# Fonction de validation\n",
    "def validate_one_epoch(model, dataloader, loss_fn, device):\n",
    "    model.eval()\n",
    "    total_loss = 0.0\n",
    "    total_correct = 0\n",
    "    total_samples = 0\n",
    "\n",
    "    with torch.no_grad():\n",
    "        for batch in dataloader:\n",
    "            images, labels = batch\n",
    "            images, labels = images.to(device), labels.to(device)\n",
    "\n",
    "            outputs = model(images)\n",
    "            loss = loss_fn(outputs, labels)\n",
    "\n",
    "            total_loss += loss.item()\n",
    "            _, predicted = torch.max(outputs, 1)\n",
    "            total_correct += (predicted == labels).sum().item()\n",
    "            total_samples += labels.size(0)\n",
    "\n",
    "            \n",
    "    return {'output': outputs,  # Pour afficher les prédictions sur le dernier lot\n",
    "        'val_loss': total_loss / len(dataloader),\n",
    "        'val_acc': total_correct / total_samples,\n",
    "    }\n",
    "\n",
    "# Define the loss function\n",
    "loss_fn = nn.CrossEntropyLoss()\n",
    "\n",
    "# Entraînement et évaluation du modèle sur plusieurs époques\n",
    "device = torch.device('cuda' if torch.cuda.is_available() else 'cpu')\n",
    "num_epochs = 50\n",
    "optimizer = torch.optim.SGD(model.parameters(), lr=0.01)  # Define the optimizer\n",
    "\n",
    "\n",
    "# Entraînement et évaluation du modèle sur plusieurs époques\n",
    "\n",
    "for epoch in range(num_epochs):\n",
    "    train_result = train_one_epoch(model, train_loader, optimizer, loss_fn, device)\n",
    "    val_result = validate_one_epoch(model, test_loader, loss_fn, device)\n",
    "\n",
    "    # Affichage des résultats pour chaque époque\n",
    "    print(f'Époque {epoch+1}/{num_epochs}')\n",
    "    print(f'Entraînement - Perte: {train_result[\"train_loss\"]:.4f}, Accuracy: {train_result[\"train_acc\"]:.4f}')\n",
    "    print(f'Validation - Perte: {val_result[\"val_loss\"]:.4f}, Accuracy: {val_result[\"val_acc\"]:.4f}')\n",
    "\n",
    "\n",
    "\n",
    "# sauvegarder le modèle\n",
    "torch.save(model.state_dict(), 'baseline_model.pth')\n",
    "\n",
    "# charger le modèle\n",
    "model = CNNModel(num_classes=15)\n",
    "model.load_state_dict(torch.load('baseline_model.pth'))\n",
    "model.eval()\n",
    "\n"
   ]
  },
  {
   "cell_type": "code",
   "execution_count": 16,
   "metadata": {},
   "outputs": [],
   "source": [
    "def get_all_predictions(model, dataloader, device):\n",
    "    model.eval()\n",
    "    all_predictions = []\n",
    "    all_labels = []\n",
    "\n",
    "    with torch.no_grad():\n",
    "        for images, labels in dataloader:\n",
    "            images = images.to(device)\n",
    "            labels = labels.to(device)\n",
    "            outputs = model(images)\n",
    "            _, predicted = torch.max(outputs, 1)\n",
    "\n",
    "            all_predictions.extend(predicted.cpu().numpy())\n",
    "            all_labels.extend(labels.cpu().numpy())\n",
    "\n",
    "    return all_predictions, all_labels\n"
   ]
  },
  {
   "cell_type": "code",
   "execution_count": 25,
   "metadata": {},
   "outputs": [
    {
     "name": "stdout",
     "output_type": "stream",
     "text": [
      "Prédictions: [11, 14, 9, 3, 9, 2, 4, 6, 9, 4, 8, 1, 11, 11, 7, 12, 13, 5, 1, 6, 14, 3, 11, 2, 14, 11, 10, 14, 1, 2, 7, 14, 9, 12, 3, 3, 5, 10, 13, 6, 7, 0, 6, 6, 2, 5, 12, 13, 1, 3, 6, 2, 9, 0, 14, 12, 0, 7, 8, 10, 13, 12, 8, 14, 3, 5, 7, 3, 2, 11, 12, 14, 1, 10, 4, 1, 3, 1, 11, 12, 2, 2, 7, 8, 4, 14, 0, 5, 4, 4, 12, 10, 0, 7, 14, 2, 0, 10, 14, 8, 5, 8, 5, 2, 3, 1, 1, 2, 9, 0, 13, 10, 1, 3, 9, 3, 4, 7, 13, 12, 11, 0, 5, 11, 2, 11, 2, 4, 7, 12, 11, 7, 9, 12, 3, 3, 5, 5, 8, 5, 3, 1, 0, 0, 9, 9, 14, 11, 9, 14, 4, 14, 1, 8, 2, 5, 3, 11, 13, 7, 5, 2, 10, 12, 11, 13, 13, 11, 12, 4, 11, 3, 14, 13, 8, 0, 8, 0, 3, 10, 4, 3, 7, 9, 1, 12, 0, 7, 8, 8, 14, 12, 11, 3, 3, 1, 5, 6, 7, 12, 6, 7, 6, 12, 6, 1, 12, 1, 11, 10, 11, 9, 9, 0, 11, 8, 5, 1, 6, 1, 6, 6, 13, 5, 4, 1, 4, 11, 2, 11, 5, 0, 9, 0, 6, 1, 12, 4, 11, 14, 3, 6, 8, 3, 5, 7, 0, 11, 13, 6, 14, 7, 1, 14, 8, 11, 14, 1, 11, 13, 2, 7, 5, 12, 9, 10, 6, 8, 8, 1, 2, 9, 14, 10, 4, 2, 11, 9, 14, 3, 10, 10, 13, 9, 7, 0, 3, 5, 13, 14, 7, 0, 5, 14, 14, 3, 5, 2, 3, 13, 7, 13, 10, 4, 12, 7, 9, 2, 5, 2, 12, 8, 11, 1, 0, 6, 10, 9, 0, 9, 10, 0, 5, 3, 9, 14, 1, 6, 13, 14, 9, 5, 12, 12, 2, 5, 1, 13, 10, 2, 3, 4, 0, 14, 6, 3, 5, 13, 2, 12, 1, 0, 1, 5, 6, 3, 1, 12, 13, 4, 2, 13, 11, 10, 6, 4, 13, 4, 11, 1, 8, 9, 13, 2, 12, 9, 9, 11, 11, 13, 13, 10, 5, 6, 8, 4, 11, 0, 6, 1, 7, 2, 6, 2, 1, 11, 5, 2, 4, 0, 1, 8, 3, 7, 10, 1, 8, 10, 8, 3, 14, 13, 12, 8, 0, 1, 5, 9, 3, 2, 6, 6, 6, 6, 7, 5, 9, 0, 9, 0, 13, 10, 7, 1, 8, 7, 9, 2, 13, 13, 1, 0, 2, 9, 10, 14, 3, 12, 9, 7, 3, 5, 7, 5, 1, 2, 0, 8, 10, 2, 5, 3, 5, 6, 12, 13, 13, 3, 12, 9, 9, 11, 5, 10, 9, 6, 10, 7, 6, 2, 2, 5, 13, 1, 5, 1, 4, 2, 2, 6, 12, 9, 0, 6, 1, 1, 11, 14, 5, 13, 14, 6, 7, 8, 5, 5, 8, 2, 3, 13, 14, 12, 1, 7, 5, 3, 8, 14, 9, 3, 1, 1, 8, 7, 13, 13, 11, 6, 1, 1, 3, 12, 11, 3, 2, 4, 10, 4, 7, 10, 2, 7, 10, 0, 8, 6, 10, 0, 9, 1, 9, 10, 1, 7, 0, 6, 7, 12, 3, 7, 12, 4, 8, 10, 1, 12, 11, 10, 1, 12, 5, 10, 7, 14, 10, 2, 10, 10, 4, 6, 5, 12, 11, 12, 5, 10, 13, 12, 11, 11, 4, 0, 10, 2, 0, 0, 7, 11, 7, 7, 8, 9, 7, 13, 12, 11, 0, 2, 0, 9, 3, 6, 5, 0, 0, 6, 14, 0, 11, 11, 0, 10, 7, 11, 1, 10, 14, 9, 6, 4, 5, 1, 12, 4, 12, 5, 14, 10, 1, 3, 2, 14, 12, 6, 9, 12, 9, 3, 11, 14, 2, 9, 2, 14, 10, 9, 4, 3, 6, 0, 3, 6, 13, 1, 2, 6, 5, 9, 5, 1, 1, 4, 0, 13, 5, 10, 2, 6, 8, 12, 8, 3, 14, 14, 13, 3, 8, 6, 14, 4, 4, 1, 9, 3, 4, 3, 12, 7, 10, 6, 10, 1, 0, 5, 12, 12, 9, 3, 14, 2, 12, 4, 0, 1, 1, 0, 10, 6, 14, 9, 14, 2, 13, 9, 5, 11, 9, 7, 8, 2, 1, 2, 0, 0, 1, 4, 8, 6, 3, 10, 5, 10, 11, 1, 0, 3, 4, 5, 0, 0, 14, 10, 3, 14, 5, 1, 5, 9, 14, 7, 0, 7, 4, 9, 7, 0, 4, 6, 5, 14, 0, 8, 5, 9, 12, 10, 11, 1, 3, 11, 6, 11, 4, 12, 7, 5, 6, 5, 0, 3, 7, 3, 1, 7, 7, 2, 3, 6, 9, 10, 14, 2, 7, 10, 7, 2, 12, 12, 5, 11, 4, 11, 3, 11, 4, 11, 14, 4, 0, 8, 13, 0, 13, 13, 1, 10, 10, 13, 8, 6, 12, 4, 7, 14, 9, 4, 1, 3, 3, 11, 5, 2, 12, 3, 3, 5, 8, 0, 7, 8, 7, 4, 5, 3, 1, 1, 2, 4, 14, 4, 6, 6, 4, 13, 2, 0, 0, 1, 10, 8, 13, 9, 3, 8, 4, 6, 14, 2, 4, 4, 8, 8, 3, 1, 3, 9, 10, 2, 2, 1, 4, 3, 4, 4, 0, 2, 9, 6, 12, 14, 14, 0, 11, 4, 3, 9, 5, 6, 12, 10, 8, 3, 2, 4, 6, 1, 6, 4, 2, 10, 7, 0, 10, 2, 9, 8, 3, 12, 13, 9, 8, 4, 2, 8, 0, 0, 12, 4, 0, 6, 13, 4, 1, 13, 13, 11, 6, 4, 4, 3, 9, 0, 14, 1, 3, 13, 11, 0, 14, 13, 3, 0, 12, 12, 7, 7, 3, 9, 12, 8, 9, 10, 5, 9, 1, 14, 13, 0, 4, 2, 2, 13, 13, 5, 4, 11, 4, 11, 11, 11, 2, 1, 1, 14, 10, 12, 10, 8, 11, 1, 12, 6, 6, 14, 10, 5, 12, 2, 4, 6, 8, 13, 5, 13, 5, 1, 7, 14, 0, 12, 11, 11, 11, 5, 9, 9, 8, 14, 11, 11, 8, 10, 0, 13, 4, 14, 8, 14, 5, 8, 13, 4, 0, 10, 7, 6, 11, 9, 14, 2, 1, 0, 4, 6, 8, 4, 10, 4, 3, 7, 2, 4, 14, 1, 2, 2, 4, 11, 14, 5, 9, 12, 2, 12, 11, 11, 7, 11, 5, 2, 12, 12, 1, 5, 11, 0, 9, 7, 5, 5, 5, 4, 7, 7, 2, 8, 2, 6, 10, 6, 7, 10, 7, 2, 9, 14, 10, 10, 12, 2, 1, 14, 11, 13, 7, 3, 9, 7, 2, 1, 3, 14, 2, 5, 7, 12, 5, 7, 9, 10, 3, 1, 12, 9, 8, 13, 12, 10, 6, 9, 7, 9, 7, 3, 11, 6, 6, 12, 1, 1, 5, 5, 4, 1, 0, 4, 7, 13, 1, 6, 3, 0, 5, 13, 13, 11, 3, 1, 3, 12, 11, 14, 3, 0, 14, 0, 11, 4, 11, 13, 1, 12, 8, 13, 12, 7, 11, 7, 0, 1, 13, 9, 11, 2, 5, 13, 9, 1, 6, 7, 11, 1, 1, 5, 0, 13, 8, 13, 8, 12, 11, 14, 11, 1, 12, 13, 1, 1, 8, 14, 14, 14, 10, 9, 11, 9, 14, 2, 6, 7, 9, 9, 10, 9, 2, 4, 14, 13, 10, 14, 10, 13, 4, 5, 3, 10, 14, 13, 4, 3, 8, 9, 9, 2, 6, 3, 4, 4, 6, 2, 0, 9, 9, 10, 2, 4, 3, 4, 11, 12, 8, 14, 8, 0, 6, 1, 8, 1, 12, 11, 3, 4, 11, 13, 14, 6, 13, 3, 3, 13, 8, 12, 5, 12, 6, 12, 8, 12, 9, 7, 0, 10, 11, 11, 12, 7, 3, 4, 1, 7, 10, 4, 3, 0, 12, 10, 5, 7, 14, 3, 14, 11, 3, 8, 13, 2, 5, 5, 1, 1, 13, 8, 7, 0, 9, 6, 6, 9, 1, 4, 5, 0, 2, 7, 9, 11, 2, 9, 0, 10, 12, 12, 6, 10, 11, 10, 9, 1, 0, 5, 1, 8, 5, 14, 6, 9, 9, 6, 13, 14, 1, 2, 7, 9, 9, 5, 0, 9, 5, 14, 10, 14, 2, 7, 3, 5, 1, 5, 4, 2, 12, 9, 0, 4, 9, 5, 9, 8, 10, 11, 4, 7, 0, 6, 3, 7, 5, 6, 7, 0, 1, 0, 9, 2, 5, 13, 5, 8, 4, 7, 4, 4, 7, 6, 13, 10, 9, 6, 0, 3, 6, 14, 5, 13, 6, 9, 7, 14, 6, 13, 13, 6, 2, 10, 6, 2, 10, 14, 4, 9, 3, 0, 12, 12, 3, 9, 1, 6, 5, 0, 10, 6, 3, 1, 12, 2, 8, 10, 5, 0, 10, 5, 7, 8, 2, 1, 8, 4, 2, 1, 13, 3, 12, 6, 13, 13, 7, 6, 11, 13, 5, 9, 9, 6, 14, 6, 8, 2, 1, 8, 10, 11, 7, 12, 5, 5, 1, 13, 9, 8, 0, 9, 5, 1, 4, 2, 8, 0, 14, 6, 7, 7, 9, 12, 6, 7, 10, 8, 10, 2, 10, 2, 11, 3, 4, 0, 0, 13, 4, 4, 0, 8, 0, 7, 4, 3, 9, 2, 11, 11, 11, 1, 4, 10, 13, 3, 9, 6, 8, 0, 0, 7, 3, 1, 5, 8, 11, 6, 6, 14, 2, 13, 9, 9, 10, 7, 0, 0, 11, 6, 12, 4, 10, 12, 1, 10, 12, 7, 9, 13, 9, 2, 4, 9, 3, 11, 3, 7, 9, 1, 0, 4, 1, 5, 12, 11, 6, 1, 0, 2, 11, 8, 1, 14, 5, 0, 8, 1, 0, 4, 10, 8, 6, 13, 2, 11, 0, 14, 14, 6, 12, 3, 8, 7, 3, 7, 3, 1, 13, 0, 5, 10, 12, 3, 10, 2, 4, 12, 4, 2, 9, 8, 1, 13, 13, 11, 9, 9, 11, 4, 12, 9, 6, 1, 14, 4, 8, 12, 11, 4, 9, 8, 1, 1, 9, 10, 6, 14, 9, 14, 6, 7, 1, 4, 11, 5, 9, 9, 11, 9, 4, 10, 4, 7, 13, 13, 6, 6, 14, 6, 13, 4, 1, 2, 7, 4, 3, 10, 8, 0, 13, 3, 0, 2, 6, 10, 13, 6, 6, 14, 12, 11, 13, 8, 0, 2, 13, 7, 14, 3, 11, 13, 3, 3, 5, 12, 11, 14, 2, 10, 14, 8, 9, 13, 7, 13, 8, 12, 13, 10, 8, 7, 12, 12, 0, 10, 0, 6, 13, 10, 12, 4, 1, 8, 14, 10, 2, 12, 8, 2, 11, 5, 10, 4, 5, 3, 10, 12, 13, 7, 3, 8, 0, 14, 0, 12, 3, 12, 4, 6, 10, 4, 8, 11, 7, 3, 6, 3, 3, 14, 6, 7, 7, 11, 13, 10, 4, 12, 2, 5, 10, 7, 8, 10, 5, 5, 5, 4, 8, 13, 14, 13, 1, 10, 1, 13, 14, 11, 1, 10, 13, 7, 12, 3, 13, 7, 8, 7, 6, 4, 6, 12, 11, 12, 2, 8, 1, 10, 8, 10, 7, 1, 7, 13, 4, 8, 4, 3, 12, 14, 7, 10, 12, 7, 9, 6, 2, 10, 14, 9, 11, 4, 12, 7, 7, 12, 13, 12, 0, 12, 2, 6, 12, 11, 11, 3, 11, 5, 11, 4, 1, 12, 1, 11, 9, 2, 9, 13, 4, 4, 4, 6, 3, 8, 1, 4, 12, 14, 9, 13, 9, 10, 1, 3, 14, 3, 7, 8, 14, 14, 3, 12, 14, 3, 0, 0, 4, 11, 0, 1, 9, 7, 2, 5, 5, 13, 3, 8, 5, 5, 9, 14, 7, 6, 4, 7, 3, 2, 8, 7, 12, 0, 13, 6, 5, 11, 4, 14, 12, 1, 2, 14, 5, 11, 9, 3, 6, 8, 12, 8, 9, 4, 14, 12, 10, 11, 10, 13, 6, 0, 10, 6, 3, 11, 11, 7, 7, 0, 10, 2, 5, 13, 4, 5, 12, 2, 1, 4, 9, 9, 9, 10, 3, 4, 10, 2, 10, 5, 12, 6, 3, 13, 12, 6, 14, 14, 8, 6, 1, 14, 9, 0, 9, 13, 9, 9, 6, 5, 4, 0, 3, 5, 3, 11, 3, 13, 6, 8, 13, 3, 12, 10, 1, 8, 7, 3, 11, 7, 10, 9, 0, 8, 7, 13, 2, 10, 9, 9, 14, 2, 4, 5, 14, 7, 12, 7, 7, 0, 3, 11, 5, 3, 13, 12, 2, 13, 6, 11, 10, 14, 11, 12, 5, 2, 4, 4, 5, 14, 1, 6, 13, 14, 4, 11, 11, 9, 0, 2, 7, 0, 1, 8, 2, 2, 13, 10, 13, 2, 8, 5, 0, 14, 13, 0, 12, 0, 0, 3, 7, 5, 0, 6, 0, 1, 12, 10, 2, 1, 10, 0, 13, 10, 11, 0, 9, 14, 7, 12, 7, 10, 14, 2, 5, 8, 1, 1, 2, 8, 2, 14, 11, 11, 8, 11, 9, 8, 13, 14, 13, 2, 1, 14, 0, 2, 13, 1, 11, 3, 2, 4, 0, 1, 4, 3, 8, 3, 1, 1, 13, 2, 8, 6, 11, 2, 6, 10, 6, 2, 8, 0, 7, 5, 14, 10, 12, 4, 5, 6, 5, 0, 10, 9, 7, 12, 6, 4, 0, 12, 10, 4, 3, 5, 14, 13, 7, 14, 3, 13, 12, 10, 9, 5, 14, 12, 6, 12, 6, 5, 11, 6, 1, 5, 1, 14, 4, 10, 8, 12, 2, 14, 5, 14, 4, 6, 5, 7, 12, 9, 11, 13, 0, 1, 2, 6, 14, 9, 6, 1, 14, 8, 13, 8, 3, 14, 12, 8, 0, 8, 12, 0, 12, 4, 0, 0, 1, 4, 14, 11, 10, 5, 7, 1, 5, 8, 2, 13, 8, 11, 13, 8, 13, 5, 9, 3, 4, 10, 13, 0, 8, 3, 13, 13, 8, 12, 7, 11, 2, 13, 7, 0, 14, 0, 13, 3, 4, 9, 7, 6, 0, 11, 6, 6, 7, 0, 0, 7, 5, 8, 2, 11, 12, 3, 12, 4, 13, 13, 13, 12, 5, 14, 3, 3, 11, 7, 5, 13, 9, 6, 11, 9, 4, 10, 5, 13, 13, 1, 10, 8, 13, 0, 1, 7, 14, 14, 14, 12, 1, 1, 10, 13, 2, 14, 5, 4, 7, 6, 2, 7, 8, 11, 13, 1, 9, 4, 14, 7, 1, 13, 14, 7, 6, 6, 7, 7, 8, 14, 2, 3, 14, 8, 5, 14, 1, 2, 6, 5, 13, 13, 13, 14, 8, 13, 2, 11, 1, 11, 7, 8, 3, 8, 9, 0, 7, 13, 5, 11, 1, 14, 1, 13, 5, 6, 6, 8, 14, 9, 3, 14, 10, 10, 11, 2, 4, 1, 0, 5, 7, 11, 6, 7, 0, 6, 14, 7, 3, 10, 9, 14, 12, 8, 0, 13, 3, 10, 8, 3, 8, 6, 11, 10, 6, 10, 4, 12, 7, 4, 10, 11, 7, 0, 10, 2, 13, 0, 4, 4, 6, 6, 0, 2, 12, 7, 14, 5, 8, 13, 8, 14, 3, 7, 13, 0, 0, 7, 8, 10, 11, 14, 2, 2, 8, 6, 11, 7, 12, 6, 2, 13, 4, 8, 7, 1, 3, 6, 9, 10, 8, 8, 8, 2, 3, 11, 5, 12, 0, 10, 6, 4, 2, 8, 14, 8, 6, 11, 8, 11, 7, 6, 7, 14, 9, 0, 1, 4, 7, 2, 3, 9, 10, 9, 10, 1, 12, 4, 3, 3, 9, 8, 8, 4, 14, 0, 13, 9, 13, 7, 14, 13, 10, 5, 9, 9, 13, 8, 2, 10, 10, 5, 6, 10, 0, 10, 9, 3, 14, 14, 10, 9, 10, 3, 1, 8, 9, 14, 12, 14, 3, 1, 11, 11, 5, 11, 2, 6, 5, 0, 4, 5, 2, 4, 10, 6, 12, 10, 3, 3, 13, 1, 12, 2, 2, 5, 14, 0, 3, 2, 9, 4, 7, 9, 8, 7, 10, 7, 10, 5, 0, 11, 8, 10, 3, 12, 2, 11, 2, 9, 4, 6, 7, 5, 5, 6, 5, 0, 13, 1, 7, 0, 0, 10, 5, 5, 12, 3, 13, 1, 12, 7, 8, 6, 11, 3, 1, 6, 4, 0, 12, 12, 1, 5, 7, 0, 0, 9, 0, 12, 14, 8, 14, 8, 5, 3, 8, 3, 7, 14, 3, 6, 10, 1, 12, 8, 14, 5, 3, 8, 14, 3, 4, 9, 4, 0, 7, 9, 0, 8, 13, 5, 7, 6, 8, 0, 3, 6, 3, 5, 6, 0, 4, 6, 5, 2, 13, 0, 8, 14, 13, 8, 14, 1, 5, 1, 1, 8, 10, 7, 2, 5, 1, 2, 13, 7, 3, 12, 2, 8, 4, 13, 6, 2, 8, 5, 4, 1, 8, 3, 3, 4, 9, 6, 10, 2, 14, 5, 12, 3, 10, 1, 2, 11, 13, 10, 12, 5, 8, 13, 0, 7, 10, 5, 4, 6, 1, 9, 4, 14, 12, 0, 11, 1, 10, 8, 3, 6, 6, 9, 11, 4, 12, 6, 11, 4, 11, 11, 2, 11, 7, 12, 8, 5, 1, 8, 14, 1, 6, 5, 14, 2, 4, 3, 6, 0, 0, 2, 10, 10, 4, 7, 8, 3, 13, 5, 11, 12, 4, 2, 13, 10, 8, 7, 8, 2, 3, 8, 12, 1, 1, 6, 8, 5, 8, 14, 10, 11, 8, 10, 4, 13, 13, 0, 10, 10, 8, 10, 12, 2, 12, 9, 4, 2, 4, 3, 9, 6, 4, 9, 14, 1, 13, 1, 8, 8, 14, 3, 13, 11, 9, 14, 4, 7, 8, 10, 6, 14, 14, 0, 2, 11, 1, 14, 2, 5, 10, 12, 11, 11, 4, 8, 10, 1, 1, 2, 12, 9, 0, 5, 3, 11, 4, 9, 12, 4, 0, 5, 6, 6, 5, 13, 8, 9, 3, 4, 5, 0, 11, 2, 6, 7, 14, 7, 11, 11, 3, 14, 8, 5, 9, 8, 13, 11, 8, 6, 11, 3, 5, 9, 12, 0, 2, 0, 9, 12, 7, 3, 10, 9, 8, 13, 5, 4, 5, 14, 11, 7, 14, 14, 8, 11, 7, 7]\n",
      "Étiquettes réelles: [11, 14, 9, 3, 9, 2, 4, 6, 9, 4, 8, 1, 11, 11, 7, 12, 13, 5, 1, 6, 14, 3, 5, 2, 14, 11, 10, 14, 1, 12, 7, 14, 9, 12, 3, 2, 5, 10, 13, 6, 7, 0, 6, 6, 2, 5, 12, 13, 1, 3, 6, 2, 9, 0, 14, 12, 0, 7, 8, 10, 13, 12, 8, 14, 3, 5, 7, 3, 2, 11, 12, 14, 1, 10, 4, 1, 3, 1, 11, 12, 2, 2, 7, 8, 4, 14, 0, 5, 4, 4, 12, 10, 0, 7, 14, 2, 0, 10, 4, 8, 5, 8, 5, 2, 3, 1, 1, 2, 9, 0, 13, 10, 1, 3, 9, 3, 4, 7, 13, 12, 11, 0, 5, 11, 2, 11, 2, 4, 7, 12, 11, 7, 9, 12, 3, 3, 5, 5, 8, 5, 3, 1, 0, 0, 9, 9, 14, 11, 9, 14, 4, 14, 1, 8, 2, 5, 3, 11, 13, 7, 5, 2, 10, 12, 11, 13, 13, 11, 12, 4, 11, 3, 14, 13, 8, 0, 8, 0, 3, 10, 4, 3, 7, 9, 1, 12, 0, 7, 8, 8, 14, 10, 11, 3, 3, 1, 5, 6, 7, 10, 6, 7, 6, 12, 6, 1, 12, 1, 13, 10, 11, 9, 9, 0, 11, 8, 5, 1, 6, 1, 6, 6, 13, 5, 9, 1, 4, 11, 2, 4, 5, 0, 9, 0, 6, 1, 12, 4, 11, 9, 3, 6, 8, 3, 11, 7, 0, 4, 13, 6, 14, 2, 1, 14, 8, 11, 14, 1, 11, 13, 2, 7, 5, 12, 9, 10, 6, 8, 8, 1, 2, 9, 14, 10, 4, 2, 11, 9, 14, 3, 10, 10, 13, 9, 7, 0, 3, 5, 13, 14, 7, 0, 5, 14, 14, 3, 5, 2, 3, 13, 7, 13, 10, 4, 12, 7, 9, 2, 5, 2, 12, 8, 11, 1, 0, 6, 10, 9, 0, 9, 10, 0, 5, 3, 9, 14, 1, 6, 13, 14, 9, 5, 12, 12, 2, 5, 6, 13, 10, 2, 3, 4, 0, 14, 6, 3, 11, 13, 2, 10, 1, 0, 1, 5, 6, 3, 1, 12, 13, 4, 2, 13, 11, 10, 6, 4, 14, 4, 11, 1, 8, 9, 13, 1, 12, 9, 9, 11, 11, 6, 13, 10, 5, 6, 8, 4, 11, 0, 6, 1, 7, 2, 6, 2, 1, 11, 5, 2, 4, 0, 1, 8, 2, 7, 10, 1, 8, 10, 10, 3, 14, 11, 12, 8, 0, 1, 5, 9, 3, 2, 6, 6, 6, 6, 7, 5, 9, 0, 9, 0, 13, 10, 7, 1, 8, 7, 9, 2, 13, 13, 1, 0, 2, 9, 10, 14, 3, 12, 9, 7, 3, 5, 7, 5, 1, 2, 0, 8, 10, 2, 5, 3, 5, 6, 12, 13, 13, 3, 12, 9, 12, 11, 5, 10, 9, 6, 10, 7, 13, 2, 2, 5, 13, 1, 5, 1, 4, 2, 2, 6, 12, 9, 0, 6, 1, 1, 11, 14, 5, 13, 14, 6, 7, 8, 5, 5, 8, 2, 3, 13, 14, 12, 1, 7, 5, 3, 8, 14, 9, 3, 1, 1, 8, 7, 13, 13, 11, 6, 1, 1, 3, 12, 11, 3, 3, 4, 10, 4, 7, 10, 2, 7, 10, 0, 8, 6, 10, 0, 9, 1, 9, 10, 1, 7, 0, 6, 7, 12, 3, 7, 12, 4, 8, 10, 1, 12, 11, 10, 1, 12, 5, 10, 7, 14, 10, 2, 10, 10, 4, 6, 5, 12, 11, 12, 5, 10, 13, 12, 11, 11, 4, 0, 10, 2, 0, 0, 7, 11, 7, 7, 8, 9, 7, 13, 12, 11, 0, 2, 0, 9, 3, 6, 5, 0, 0, 6, 14, 0, 11, 11, 0, 10, 7, 11, 1, 10, 14, 9, 6, 4, 5, 1, 12, 4, 12, 5, 14, 10, 1, 3, 2, 14, 12, 6, 9, 12, 9, 3, 11, 14, 2, 9, 3, 14, 10, 9, 4, 3, 6, 0, 3, 6, 13, 1, 2, 6, 11, 9, 5, 1, 1, 4, 0, 13, 5, 10, 2, 6, 8, 12, 8, 3, 14, 14, 13, 3, 8, 6, 14, 4, 4, 1, 9, 3, 4, 3, 12, 7, 10, 6, 10, 1, 0, 5, 12, 12, 9, 3, 14, 2, 12, 4, 0, 1, 1, 0, 10, 6, 14, 9, 14, 2, 13, 9, 5, 11, 9, 14, 8, 2, 1, 2, 0, 0, 1, 4, 8, 6, 3, 10, 5, 10, 11, 1, 0, 3, 4, 5, 0, 0, 14, 10, 3, 14, 5, 1, 5, 14, 14, 7, 0, 7, 4, 9, 7, 0, 4, 6, 5, 14, 0, 8, 5, 9, 12, 10, 11, 1, 3, 11, 6, 11, 4, 12, 7, 12, 6, 5, 0, 2, 7, 3, 2, 7, 7, 2, 3, 6, 9, 10, 14, 2, 7, 10, 7, 2, 12, 12, 5, 11, 4, 11, 3, 11, 4, 11, 14, 4, 0, 8, 13, 0, 13, 13, 1, 10, 10, 13, 8, 6, 12, 4, 7, 14, 9, 4, 1, 3, 3, 11, 5, 2, 12, 3, 3, 5, 8, 0, 7, 8, 7, 4, 5, 3, 1, 1, 2, 4, 14, 4, 6, 6, 4, 13, 2, 0, 0, 1, 12, 8, 13, 9, 3, 8, 4, 6, 14, 2, 4, 4, 8, 8, 3, 1, 3, 7, 10, 2, 2, 1, 4, 3, 4, 4, 9, 2, 9, 6, 12, 14, 14, 0, 11, 4, 3, 9, 5, 6, 12, 10, 8, 3, 2, 4, 6, 1, 6, 4, 2, 10, 7, 0, 10, 2, 7, 8, 3, 12, 13, 9, 8, 4, 2, 8, 0, 0, 12, 4, 0, 6, 13, 4, 1, 13, 13, 11, 6, 4, 4, 3, 9, 0, 14, 1, 3, 13, 11, 0, 14, 13, 2, 0, 12, 12, 7, 7, 3, 9, 12, 8, 9, 10, 5, 9, 1, 14, 13, 0, 4, 2, 2, 13, 13, 5, 4, 11, 4, 11, 11, 11, 2, 1, 1, 14, 10, 12, 10, 8, 11, 1, 12, 6, 6, 14, 10, 5, 12, 2, 4, 6, 8, 13, 5, 13, 5, 1, 7, 14, 0, 12, 11, 11, 11, 5, 9, 9, 8, 14, 11, 11, 8, 10, 0, 13, 4, 14, 8, 14, 5, 8, 13, 4, 0, 10, 7, 6, 11, 9, 14, 2, 1, 0, 4, 6, 8, 4, 10, 4, 3, 7, 2, 4, 14, 1, 3, 3, 11, 4, 14, 5, 9, 12, 2, 12, 11, 11, 7, 11, 5, 2, 12, 12, 1, 5, 11, 0, 9, 7, 5, 5, 5, 4, 7, 7, 2, 8, 2, 6, 7, 6, 7, 10, 7, 2, 9, 14, 10, 10, 12, 2, 1, 14, 11, 13, 7, 3, 9, 7, 2, 1, 3, 14, 2, 5, 7, 12, 5, 7, 9, 10, 3, 1, 12, 0, 8, 13, 12, 10, 6, 9, 7, 9, 7, 3, 11, 13, 6, 12, 1, 1, 5, 5, 4, 1, 0, 4, 7, 13, 1, 6, 3, 0, 5, 13, 13, 11, 3, 1, 3, 12, 11, 14, 3, 0, 14, 0, 11, 4, 11, 13, 1, 12, 8, 13, 12, 12, 11, 7, 0, 1, 13, 9, 11, 2, 5, 13, 9, 1, 6, 7, 11, 1, 1, 5, 0, 13, 8, 13, 8, 12, 11, 14, 11, 2, 12, 13, 1, 1, 8, 14, 14, 14, 10, 9, 11, 9, 14, 2, 6, 7, 9, 9, 10, 9, 2, 4, 14, 13, 10, 14, 10, 13, 4, 5, 3, 10, 14, 13, 4, 3, 8, 9, 14, 2, 6, 3, 4, 4, 6, 2, 0, 14, 9, 10, 2, 4, 3, 4, 11, 12, 8, 14, 8, 0, 6, 1, 8, 1, 12, 11, 3, 4, 12, 13, 14, 6, 13, 3, 3, 13, 8, 12, 5, 12, 6, 12, 8, 12, 9, 7, 0, 10, 11, 11, 12, 7, 3, 4, 1, 7, 10, 4, 3, 0, 12, 10, 5, 7, 14, 3, 14, 11, 2, 8, 13, 2, 5, 5, 1, 1, 13, 8, 7, 0, 9, 6, 6, 9, 1, 4, 5, 0, 2, 7, 9, 11, 2, 9, 0, 10, 12, 12, 6, 10, 11, 10, 9, 1, 0, 7, 1, 8, 5, 14, 6, 9, 9, 6, 13, 14, 1, 2, 7, 9, 9, 5, 0, 9, 5, 14, 10, 14, 2, 7, 2, 5, 1, 5, 4, 2, 12, 9, 0, 4, 9, 5, 9, 8, 10, 11, 4, 7, 0, 12, 3, 7, 5, 6, 7, 0, 1, 0, 9, 2, 5, 13, 5, 8, 4, 7, 4, 4, 7, 6, 13, 10, 9, 6, 0, 3, 6, 14, 5, 13, 6, 9, 7, 14, 6, 13, 13, 6, 2, 10, 6, 2, 10, 14, 4, 9, 3, 0, 12, 12, 3, 9, 1, 6, 5, 0, 10, 6, 3, 1, 12, 2, 8, 10, 5, 0, 10, 5, 7, 8, 2, 1, 8, 4, 2, 1, 13, 3, 12, 6, 13, 13, 7, 6, 11, 13, 5, 9, 9, 6, 14, 6, 8, 2, 1, 8, 10, 11, 7, 12, 5, 5, 1, 13, 9, 8, 0, 9, 5, 1, 4, 2, 8, 0, 14, 6, 7, 7, 9, 12, 6, 7, 10, 8, 10, 2, 10, 2, 11, 3, 4, 0, 0, 13, 4, 4, 0, 8, 0, 7, 4, 3, 9, 2, 11, 11, 11, 1, 4, 10, 13, 3, 9, 6, 8, 0, 0, 7, 3, 1, 5, 8, 11, 6, 6, 14, 2, 13, 9, 9, 10, 7, 0, 0, 11, 6, 12, 4, 10, 12, 1, 10, 12, 7, 9, 13, 9, 2, 4, 9, 3, 11, 3, 7, 9, 1, 0, 4, 1, 5, 12, 11, 6, 1, 0, 2, 11, 8, 1, 14, 5, 0, 8, 1, 0, 4, 10, 8, 6, 13, 2, 11, 0, 14, 14, 6, 12, 3, 8, 7, 3, 7, 3, 1, 13, 0, 5, 10, 12, 3, 10, 2, 4, 12, 4, 2, 9, 8, 1, 13, 13, 11, 9, 9, 11, 4, 12, 9, 6, 1, 14, 4, 8, 12, 11, 4, 9, 8, 1, 1, 9, 10, 6, 8, 9, 14, 6, 7, 1, 4, 11, 5, 9, 9, 11, 9, 4, 10, 4, 7, 13, 13, 6, 6, 14, 6, 13, 4, 1, 2, 7, 4, 3, 10, 8, 0, 13, 3, 0, 2, 6, 10, 13, 6, 6, 14, 12, 11, 13, 8, 12, 1, 13, 9, 14, 3, 11, 13, 3, 3, 5, 12, 11, 14, 2, 10, 14, 8, 9, 13, 7, 13, 8, 12, 13, 10, 8, 7, 12, 12, 0, 10, 0, 6, 13, 10, 12, 4, 1, 8, 14, 10, 2, 12, 8, 2, 11, 5, 10, 4, 5, 2, 10, 12, 13, 7, 3, 8, 0, 14, 0, 12, 3, 12, 4, 6, 10, 4, 8, 11, 7, 3, 6, 3, 3, 14, 6, 7, 7, 11, 13, 10, 4, 12, 2, 5, 10, 7, 8, 10, 5, 5, 5, 4, 8, 13, 14, 13, 1, 10, 1, 13, 14, 11, 1, 10, 13, 7, 10, 2, 13, 7, 8, 7, 6, 4, 6, 12, 11, 12, 2, 8, 1, 10, 8, 10, 7, 1, 7, 13, 4, 8, 4, 3, 12, 14, 7, 10, 12, 7, 9, 6, 2, 12, 14, 9, 11, 4, 12, 7, 7, 12, 13, 12, 0, 12, 2, 6, 12, 11, 11, 3, 11, 5, 11, 4, 1, 12, 1, 11, 9, 2, 9, 6, 4, 4, 4, 6, 3, 8, 2, 4, 12, 14, 9, 13, 9, 10, 1, 3, 14, 3, 7, 8, 14, 14, 3, 12, 14, 3, 0, 0, 4, 11, 0, 1, 5, 7, 2, 5, 5, 13, 3, 8, 5, 5, 9, 14, 7, 6, 4, 7, 3, 2, 8, 7, 12, 0, 13, 6, 5, 11, 4, 9, 12, 1, 2, 14, 5, 11, 9, 3, 6, 8, 12, 8, 9, 4, 14, 12, 10, 11, 10, 13, 6, 0, 10, 6, 3, 11, 11, 7, 7, 0, 10, 2, 5, 13, 4, 5, 12, 2, 1, 4, 9, 9, 9, 10, 3, 4, 10, 2, 10, 5, 10, 6, 3, 13, 12, 6, 14, 14, 8, 6, 1, 14, 9, 0, 9, 13, 9, 9, 6, 5, 4, 0, 3, 5, 3, 11, 3, 13, 6, 8, 13, 3, 12, 10, 1, 8, 7, 3, 11, 7, 10, 9, 0, 8, 7, 13, 2, 12, 9, 9, 14, 2, 4, 5, 14, 7, 12, 7, 7, 0, 3, 11, 5, 3, 13, 12, 2, 13, 6, 11, 10, 14, 11, 12, 5, 2, 4, 4, 5, 14, 1, 6, 13, 14, 4, 11, 11, 9, 0, 2, 7, 0, 1, 8, 2, 2, 13, 10, 13, 2, 8, 5, 0, 14, 13, 0, 12, 0, 0, 3, 7, 5, 0, 6, 0, 1, 12, 10, 2, 1, 10, 0, 13, 10, 11, 0, 7, 14, 7, 12, 7, 10, 14, 2, 5, 8, 1, 1, 2, 8, 2, 14, 11, 11, 8, 11, 9, 8, 13, 14, 13, 2, 1, 14, 0, 2, 13, 1, 11, 3, 2, 4, 0, 3, 4, 3, 8, 3, 1, 1, 13, 2, 8, 6, 11, 2, 6, 10, 6, 2, 8, 0, 7, 5, 14, 9, 12, 4, 5, 6, 5, 0, 10, 9, 7, 12, 6, 4, 0, 12, 10, 4, 3, 5, 14, 13, 7, 11, 3, 13, 12, 10, 9, 5, 14, 12, 6, 12, 6, 5, 11, 6, 1, 5, 1, 11, 4, 10, 8, 12, 2, 9, 5, 14, 4, 6, 5, 7, 12, 9, 11, 13, 0, 1, 2, 6, 14, 9, 6, 1, 14, 8, 13, 8, 3, 14, 12, 8, 0, 8, 12, 0, 12, 4, 0, 0, 2, 4, 14, 11, 10, 5, 7, 1, 5, 8, 2, 12, 8, 11, 13, 8, 13, 5, 9, 3, 4, 10, 13, 0, 8, 3, 13, 13, 8, 12, 7, 11, 2, 13, 7, 0, 14, 0, 13, 3, 4, 9, 7, 6, 0, 11, 6, 6, 7, 0, 0, 14, 5, 8, 3, 11, 12, 3, 12, 4, 13, 13, 13, 12, 5, 14, 3, 3, 11, 7, 5, 13, 9, 6, 11, 9, 4, 10, 5, 13, 13, 1, 10, 8, 13, 0, 1, 7, 14, 14, 14, 12, 1, 1, 10, 13, 2, 14, 5, 4, 7, 6, 2, 7, 8, 11, 13, 1, 9, 4, 14, 7, 1, 13, 14, 7, 6, 6, 7, 7, 8, 14, 2, 3, 14, 8, 5, 14, 1, 2, 6, 5, 13, 13, 13, 14, 8, 13, 2, 11, 1, 11, 7, 8, 3, 8, 9, 0, 4, 13, 5, 11, 1, 14, 1, 13, 5, 6, 6, 8, 14, 9, 3, 14, 10, 10, 11, 2, 4, 1, 0, 5, 9, 13, 6, 7, 0, 6, 14, 7, 3, 10, 14, 14, 12, 8, 0, 13, 3, 10, 8, 3, 8, 6, 11, 10, 6, 10, 4, 12, 7, 4, 10, 11, 7, 0, 10, 2, 13, 0, 4, 4, 6, 6, 0, 2, 12, 7, 14, 5, 8, 13, 8, 14, 3, 7, 13, 0, 0, 7, 8, 10, 11, 14, 2, 2, 8, 6, 11, 7, 12, 6, 2, 13, 4, 8, 7, 1, 3, 12, 9, 10, 8, 8, 8, 2, 3, 11, 5, 12, 0, 10, 6, 4, 2, 8, 14, 8, 6, 11, 8, 11, 7, 6, 7, 14, 9, 0, 1, 4, 7, 2, 3, 9, 10, 9, 10, 1, 12, 4, 3, 3, 9, 9, 8, 4, 14, 0, 13, 9, 13, 7, 14, 13, 10, 5, 9, 9, 13, 8, 2, 10, 10, 5, 6, 10, 0, 10, 9, 3, 14, 14, 10, 9, 10, 3, 1, 8, 9, 14, 12, 14, 3, 1, 11, 11, 5, 11, 2, 6, 5, 0, 4, 5, 2, 4, 10, 6, 12, 10, 3, 3, 13, 1, 12, 2, 2, 5, 14, 0, 3, 2, 9, 4, 7, 9, 8, 7, 10, 7, 10, 5, 0, 11, 8, 10, 3, 12, 2, 11, 2, 9, 4, 6, 7, 5, 5, 6, 5, 0, 13, 1, 7, 0, 0, 10, 5, 5, 12, 3, 13, 1, 12, 7, 8, 6, 11, 3, 7, 6, 4, 0, 12, 12, 1, 5, 7, 0, 0, 9, 0, 12, 14, 8, 14, 8, 5, 3, 8, 3, 7, 14, 3, 6, 10, 1, 12, 8, 14, 5, 3, 8, 14, 3, 4, 9, 4, 0, 7, 9, 0, 8, 13, 5, 7, 11, 8, 0, 3, 6, 3, 5, 6, 0, 4, 6, 5, 2, 13, 0, 8, 14, 13, 8, 14, 1, 5, 1, 1, 9, 10, 7, 2, 5, 1, 2, 13, 7, 3, 12, 2, 8, 4, 13, 6, 2, 8, 5, 4, 1, 8, 3, 3, 4, 9, 6, 10, 2, 9, 5, 12, 3, 10, 1, 2, 11, 13, 10, 12, 5, 13, 13, 0, 7, 10, 12, 4, 6, 1, 9, 4, 14, 12, 0, 11, 1, 10, 8, 3, 6, 6, 9, 11, 4, 12, 6, 11, 4, 11, 11, 2, 11, 5, 12, 8, 5, 1, 8, 14, 1, 6, 5, 14, 2, 4, 3, 6, 0, 0, 2, 10, 10, 4, 7, 8, 3, 13, 5, 11, 12, 11, 2, 13, 10, 8, 7, 8, 2, 3, 8, 12, 1, 1, 6, 8, 5, 8, 14, 10, 11, 8, 10, 4, 13, 13, 0, 10, 10, 8, 10, 12, 2, 12, 9, 4, 2, 11, 3, 9, 6, 4, 9, 14, 1, 13, 1, 8, 8, 14, 3, 13, 11, 9, 14, 4, 4, 8, 10, 6, 14, 14, 0, 2, 11, 1, 14, 2, 5, 10, 12, 11, 11, 4, 8, 10, 1, 1, 2, 12, 9, 0, 5, 3, 11, 4, 9, 12, 4, 0, 5, 6, 6, 5, 13, 8, 9, 3, 4, 5, 0, 11, 2, 6, 7, 14, 7, 11, 11, 3, 14, 8, 5, 9, 8, 13, 11, 8, 2, 11, 5, 5, 9, 12, 0, 2, 0, 9, 7, 7, 3, 10, 9, 8, 13, 3, 4, 5, 14, 11, 7, 14, 14, 8, 11, 7, 7]\n"
     ]
    }
   ],
   "source": [
    "# Utiliser la fonction pour obtenir les prédictions sur l'ensemble de données de test\n",
    "test_predictions, test_labels = get_all_predictions(model, test_loader, device)\n",
    "\n",
    "# Afficher les prédictions et les étiquettes réelles\n",
    "print(\"Prédictions:\", test_predictions)\n",
    "print(\"Étiquettes réelles:\", test_labels)"
   ]
  },
  {
   "cell_type": "markdown",
   "metadata": {},
   "source": [
    "# Fast Sign Gradient Methods"
   ]
  },
  {
   "cell_type": "code",
   "execution_count": 26,
   "metadata": {},
   "outputs": [
    {
     "name": "stdout",
     "output_type": "stream",
     "text": [
      "\n",
      "Test accuracy on adversarial images: 0.6466666460037231\n"
     ]
    }
   ],
   "source": [
    "# Importation des bibliothèques nécessaires\n",
    "import torch\n",
    "import torch.nn.functional as F\n",
    "\n",
    "# Définition de la fonction FGSM\n",
    "def FGSM(image, epsilon, data_grad):\n",
    "    sign_data_grad = data_grad.sign()\n",
    "    perturbed_image = image + epsilon * sign_data_grad\n",
    "    perturbed_image = torch.clamp(perturbed_image, 0, 1)\n",
    "    return perturbed_image\n",
    "\n",
    "# Paramètre de l'attaque\n",
    "epsilon = 0.01\n",
    "\n",
    "# Charger les données de test\n",
    "test_img_tensors, test_labels = prepare_set_data(test_set)\n",
    "test_img_tensors.requires_grad = True\n",
    "\n",
    "# Passer les images dans le modèle et calculer les pertes\n",
    "outputs = model(test_img_tensors.to(device))\n",
    "loss = F.cross_entropy(outputs, test_labels.to(device))\n",
    "\n",
    "# Remettre à zéro les gradients existants dans le modèle et effectuer la rétropropagation\n",
    "model.zero_grad()\n",
    "loss.backward()\n",
    "\n",
    "# Collecter les gradients par rapport aux images d'entrée\n",
    "data_grad = test_img_tensors.grad.data\n",
    "\n",
    "# Appliquer FGSM sur les images de test\n",
    "perturbed_data_test = FGSM(test_img_tensors, epsilon, data_grad)\n",
    "\n",
    "# Évaluer le modèle sur les images adverses\n",
    "output = model(perturbed_data_test.to(device))\n",
    "final_loss = F.cross_entropy(output, test_labels.to(device))\n",
    "final_acc = (output.max(1)[1] == test_labels.to(device)).float().mean()\n",
    "print('\\nTest accuracy on adversarial images:', final_acc.item())\n"
   ]
  },
  {
   "cell_type": "code",
   "execution_count": 19,
   "metadata": {},
   "outputs": [
    {
     "name": "stdout",
     "output_type": "stream",
     "text": [
      "\n",
      "Training accuracy on adversarial images: 0.5400833487510681\n"
     ]
    }
   ],
   "source": [
    "# Charger les données d'entraînement\n",
    "train_img_tensors, train_labels = prepare_set_data(train_set)\n",
    "train_img_tensors.requires_grad = True\n",
    "\n",
    "# Passer les images d'entraînement dans le modèle et calculer les pertes\n",
    "outputs_train = model(train_img_tensors.to(device))\n",
    "loss_train = F.cross_entropy(outputs_train, train_labels.to(device))\n",
    "\n",
    "# Remettre à zéro les gradients existants dans le modèle et effectuer la rétropropagation pour les images d'entraînement\n",
    "model.zero_grad()\n",
    "loss_train.backward()\n",
    "\n",
    "# Collecter les gradients par rapport aux images d'entraînement\n",
    "data_grad_train = train_img_tensors.grad.data\n",
    "\n",
    "# Appliquer FGSM sur les images d'entraînement\n",
    "perturbed_data_train = FGSM(train_img_tensors, epsilon, data_grad_train)\n",
    "\n",
    "# Évaluer le modèle sur les images adverses d'entraînement\n",
    "output_train = model(perturbed_data_train.to(device))\n",
    "final_loss_train = F.cross_entropy(output_train, train_labels.to(device))\n",
    "final_acc_train = (output_train.max(1)[1] == train_labels.to(device)).float().mean()\n",
    "print('\\nTraining accuracy on adversarial images:', final_acc_train.item())\n"
   ]
  },
  {
   "cell_type": "code",
   "execution_count": 20,
   "metadata": {},
   "outputs": [
    {
     "data": {
      "image/png": "[encoded data removed]",
      "text/plain": [
       "<Figure size 640x480 with 1 Axes>"
      ]
     },
     "metadata": {},
     "output_type": "display_data"
    },
    {
     "data": {
      "image/png": "[encoded data removed]",
      "text/plain": [
       "<Figure size 640x480 with 1 Axes>"
      ]
     },
     "metadata": {},
     "output_type": "display_data"
    }
   ],
   "source": [
    "#affiche une image avant et après pertubation\n",
    "import matplotlib.pyplot as plt\n",
    "import numpy as np\n",
    "\n",
    "# Définition de la fonction pour afficher une image\n",
    "def imshow(img):\n",
    "    npimg = img.detach().numpy()\n",
    "    plt.imshow(np.transpose(npimg, (1, 2, 0)), cmap='gray')\n",
    "    plt.show()\n",
    "\n",
    "# Définition de la fonction pour afficher une image avant et après perturbation\n",
    "def show_images(image, perturbed_image):\n",
    "    img = image[0]\n",
    "    perturbed_img = perturbed_image[0]\n",
    "    imshow(img.cpu())\n",
    "    imshow(perturbed_img.cpu())\n",
    "\n",
    "# Afficher une image avant et après perturbation\n",
    "show_images(test_img_tensors, perturbed_data_test)\n"
   ]
  },
  {
   "cell_type": "markdown",
   "metadata": {},
   "source": [
    "# APPLY DEFENSE"
   ]
  },
  {
   "cell_type": "code",
   "execution_count": 21,
   "metadata": {},
   "outputs": [
    {
     "name": "stdout",
     "output_type": "stream",
     "text": [
      "Epoch 1/5 completed.\n",
      "Epoch 2/5 completed.\n",
      "Epoch 3/5 completed.\n",
      "Epoch 4/5 completed.\n",
      "Epoch 5/5 completed.\n"
     ]
    }
   ],
   "source": [
    "def adversarial_training(model, train_loader, epsilon, optimizer, loss_fn, device, num_epochs):\n",
    "    for epoch in range(num_epochs):\n",
    "        for batch in train_loader:\n",
    "            images, labels = batch\n",
    "            images, labels = images.to(device), labels.to(device)\n",
    "\n",
    "            # Création d'exemples adverses avec FGSM\n",
    "            images.requires_grad = True\n",
    "            outputs = model(images)\n",
    "            loss = loss_fn(outputs, labels)\n",
    "            model.zero_grad()\n",
    "            loss.backward()\n",
    "            data_grad = images.grad.data\n",
    "            perturbed_images = FGSM(images, epsilon, data_grad)\n",
    "\n",
    "            # Entraînement avec les données originales\n",
    "            optimizer.zero_grad()\n",
    "            outputs = model(images)\n",
    "            loss = loss_fn(outputs, labels)\n",
    "            loss.backward()\n",
    "            optimizer.step()\n",
    "\n",
    "            # Entraînement avec les données adverses\n",
    "            optimizer.zero_grad()\n",
    "            outputs_adv = model(perturbed_images)\n",
    "            loss_adv = loss_fn(outputs_adv, labels)\n",
    "            loss_adv.backward()\n",
    "            optimizer.step()\n",
    "\n",
    "        print(f\"Epoch {epoch+1}/{num_epochs} completed.\")\n",
    "    return model\n",
    "\n",
    "# Paramètres\n",
    "epsilon = 0.1  # Paramètre pour FGSM\n",
    "num_epochs = 5  # Nombre d'époques pour l'entraînement\n",
    "optimizer = torch.optim.SGD(model.parameters(), lr=0.01)\n",
    "\n",
    "# Entraînement adversarial\n",
    "model_robust_1 = adversarial_training(model, train_loader, epsilon, optimizer, loss_fn, device, num_epochs)\n",
    "\n",
    "#sauvegarder le modèle\n",
    "torch.save(model_robust_1.state_dict(), 'model_robust_1.pth')\n",
    "\n",
    "\n"
   ]
  },
  {
   "cell_type": "code",
   "execution_count": 22,
   "metadata": {},
   "outputs": [
    {
     "name": "stdout",
     "output_type": "stream",
     "text": [
      "\n",
      "Test accuracy on adversarial images: 0.671999990940094\n"
     ]
    }
   ],
   "source": [
    "# charger le modèle\n",
    "#model_robust_1 = CNNModel(num_classes=15)\n",
    "#model_robust_1.load_state_dict(torch.load('model_robust_1.pth'))\n",
    "#model_robust_1.eval()\n",
    "\n",
    "# Évaluer le modèle robuste sur les images adverses\n",
    "output = model_robust_1(perturbed_data_test.to(device))\n",
    "final_loss = F.cross_entropy(output, test_labels.to(device))\n",
    "final_acc = (output.max(1)[1] == test_labels.to(device)).float().mean()\n",
    "print('\\nTest accuracy on adversarial images:', final_acc.item())\n"
   ]
  },
  {
   "cell_type": "code",
   "execution_count": 23,
   "metadata": {},
   "outputs": [
    {
     "name": "stdout",
     "output_type": "stream",
     "text": [
      "\n",
      "Test accuracy on adversarial images: 0.6723333597183228\n"
     ]
    }
   ],
   "source": [
    "# charger le modèle\n",
    "#model_robust_1 = CNNModel(num_classes=15)\n",
    "#model_robust_1.load_state_dict(torch.load('model_robust_1.pth'))\n",
    "#model_robust_1.eval()\n",
    "\n",
    "# Évaluer le modèle robuste sur les images adverses\n",
    "output = model_robust_1(perturbed_data_train.to(device))\n",
    "final_loss = F.cross_entropy(output, train_labels.to(device))\n",
    "final_acc = (output.max(1)[1] == train_labels.to(device)).float().mean()\n",
    "print('\\nTest accuracy on adversarial images:', final_acc.item())\n"
   ]
  }
 ],
 "metadata": {
  "kernelspec": {
   "display_name": "Python 3",
   "language": "python",
   "name": "python3"
  },
  "language_info": {
   "codemirror_mode": {
    "name": "ipython",
    "version": 3
   },
   "file_extension": ".py",
   "mimetype": "text/x-python",
   "name": "python",
   "nbconvert_exporter": "python",
   "pygments_lexer": "ipython3",
   "version": "3.10.11"
  }
 },
 "nbformat": 4,
 "nbformat_minor": 2
}
