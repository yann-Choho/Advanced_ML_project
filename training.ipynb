{
 "cells": [
  {
   "cell_type": "markdown",
   "metadata": {},
   "source": [
    "In this Notebook, we will train a CNN to solve the chinese MNIST dataset"
   ]
  },
  {
   "cell_type": "markdown",
   "metadata": {},
   "source": [
    "I - Imports & Installs"
   ]
  },
  {
   "cell_type": "code",
   "execution_count": 1,
   "metadata": {},
   "outputs": [
    {
     "name": "stdout",
     "output_type": "stream",
     "text": [
      "WARNING:tensorflow:From C:\\Users\\choho\\AppData\\Local\\Packages\\PythonSoftwareFoundation.Python.3.10_qbz5n2kfra8p0\\LocalCache\\local-packages\\Python310\\site-packages\\keras\\src\\losses.py:2976: The name tf.losses.sparse_softmax_cross_entropy is deprecated. Please use tf.compat.v1.losses.sparse_softmax_cross_entropy instead.\n",
      "\n",
      "Skipping, found downloaded files in \".\\chinese-mnist\" (use force=True to force download)\n"
     ]
    }
   ],
   "source": [
    "import matplotlib as plt\n",
    "\n",
    "%run CNN_layers.ipynb\n",
    "%run Chinese_MNIST_preprocessing.ipynb"
   ]
  },
  {
   "cell_type": "markdown",
   "metadata": {},
   "source": [
    "II - Neural network"
   ]
  },
  {
   "cell_type": "code",
   "execution_count": 2,
   "metadata": {},
   "outputs": [],
   "source": [
    "model = [\n",
    "    convolutionnal_layer((1,64,64),16,1),\n",
    "    sigmoid_activation_layer(),\n",
    "    convolutionnal_layer((1,49,49),8,2),\n",
    "    sigmoid_activation_layer(),\n",
    "    convolutionnal_layer((2,42,42),4,3),\n",
    "    sigmoid_activation_layer(),\n",
    "    avg_pool_layer((6,39,39),15),\n",
    "    reshape_layer((6,25,25),(6*25*25)),\n",
    "    dense_layer(6*25*25,100),\n",
    "    sigmoid_activation_layer(),\n",
    "    dense_layer(100,15),\n",
    "    sigmoid_activation_layer()    \n",
    "]\n",
    "\n",
    "# Hyper parameters\n",
    "\n",
    "epoch = 10\n",
    "eta = 0.1"
   ]
  },
  {
   "cell_type": "markdown",
   "metadata": {},
   "source": [
    "III - Training"
   ]
  },
  {
   "cell_type": "code",
   "execution_count": 7,
   "metadata": {},
   "outputs": [
    {
     "ename": "IndexError",
     "evalue": "index 3 is out of bounds for axis 0 with size 3",
     "output_type": "error",
     "traceback": [
      "\u001b[1;31m---------------------------------------------------------------------------\u001b[0m",
      "\u001b[1;31mIndexError\u001b[0m                                Traceback (most recent call last)",
      "Cell \u001b[1;32mIn[7], line 13\u001b[0m\n\u001b[0;32m      9\u001b[0m output \u001b[38;5;241m=\u001b[39m x\n\u001b[0;32m     11\u001b[0m \u001b[38;5;28;01mfor\u001b[39;00m layer \u001b[38;5;129;01min\u001b[39;00m model :\n\u001b[1;32m---> 13\u001b[0m     output \u001b[38;5;241m=\u001b[39m \u001b[43mlayer\u001b[49m\u001b[38;5;241;43m.\u001b[39;49m\u001b[43mforward\u001b[49m\u001b[43m(\u001b[49m\u001b[43moutput\u001b[49m\u001b[43m)\u001b[49m\n\u001b[0;32m     15\u001b[0m \u001b[38;5;66;03m# error \u001b[39;00m\n\u001b[0;32m     17\u001b[0m cel \u001b[38;5;241m=\u001b[39m cross_entropy_layer(output,y)\n",
      "File \u001b[1;32m~\\AppData\\Local\\Temp\\ipykernel_20880\\4219518748.py:25\u001b[0m, in \u001b[0;36mavg_pool_layer.forward\u001b[1;34m(self, input)\u001b[0m\n\u001b[0;32m     21\u001b[0m \u001b[38;5;28mself\u001b[39m\u001b[38;5;241m.\u001b[39moutput \u001b[38;5;241m=\u001b[39m np\u001b[38;5;241m.\u001b[39mzeros(\u001b[38;5;28mself\u001b[39m\u001b[38;5;241m.\u001b[39moutput_shape)\n\u001b[0;32m     23\u001b[0m \u001b[38;5;28;01mfor\u001b[39;00m i \u001b[38;5;129;01min\u001b[39;00m \u001b[38;5;28mrange\u001b[39m(\u001b[38;5;28mself\u001b[39m\u001b[38;5;241m.\u001b[39minput_depth) :\n\u001b[1;32m---> 25\u001b[0m     \u001b[38;5;28mself\u001b[39m\u001b[38;5;241m.\u001b[39moutput[i] \u001b[38;5;241m+\u001b[39m\u001b[38;5;241m=\u001b[39m signal\u001b[38;5;241m.\u001b[39mcorrelate2d(\u001b[38;5;28;43mself\u001b[39;49m\u001b[38;5;241;43m.\u001b[39;49m\u001b[43minput\u001b[49m\u001b[43m[\u001b[49m\u001b[43mi\u001b[49m\u001b[43m]\u001b[49m, \u001b[38;5;28mself\u001b[39m\u001b[38;5;241m.\u001b[39mkernels[i], \u001b[38;5;124m'\u001b[39m\u001b[38;5;124mvalid\u001b[39m\u001b[38;5;124m'\u001b[39m)\n\u001b[0;32m     27\u001b[0m \u001b[38;5;28;01mreturn\u001b[39;00m \u001b[38;5;28mself\u001b[39m\u001b[38;5;241m.\u001b[39moutput\n",
      "\u001b[1;31mIndexError\u001b[0m: index 3 is out of bounds for axis 0 with size 3"
     ]
    }
   ],
   "source": [
    "\n",
    "for e in range(epoch) :\n",
    "\n",
    "    error = 0\n",
    "\n",
    "    for x,y in zip(preprocess(batch1)[0], preprocess(batch1)[1]) :\n",
    "\n",
    "        # Forward propagation :\n",
    "\n",
    "        output = x\n",
    "\n",
    "        for layer in model :\n",
    "            \n",
    "            output = layer.forward(output)\n",
    "\n",
    "        # error \n",
    "            \n",
    "        cel = cross_entropy_layer(output,y)\n",
    "        error += cel.compute()\n",
    "\n",
    "        # Backward propagation\n",
    "\n",
    "        grad = cel.grad()\n",
    "        \n",
    "        for layer in reversed(model) :\n",
    "\n",
    "            grad = layer.backward(grad,eta)\n",
    "\n",
    "        error /= len(batch1)\n",
    "        print(f\"{e+1}/epoch, error = {error}\")\n"
   ]
  }
 ],
 "metadata": {
  "kernelspec": {
   "display_name": "base",
   "language": "python",
   "name": "python3"
  },
  "language_info": {
   "codemirror_mode": {
    "name": "ipython",
    "version": 3
   },
   "file_extension": ".py",
   "mimetype": "text/x-python",
   "name": "python",
   "nbconvert_exporter": "python",
   "pygments_lexer": "ipython3",
   "version": "3.10.11"
  }
 },
 "nbformat": 4,
 "nbformat_minor": 2
}
